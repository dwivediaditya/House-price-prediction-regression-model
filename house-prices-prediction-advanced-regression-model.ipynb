{
 "cells": [
  {
   "cell_type": "code",
   "execution_count": 1,
   "metadata": {
    "execution": {
     "iopub.execute_input": "2020-08-27T23:24:26.775411Z",
     "iopub.status.busy": "2020-08-27T23:24:26.774435Z",
     "iopub.status.idle": "2020-08-27T23:24:26.780059Z",
     "shell.execute_reply": "2020-08-27T23:24:26.779215Z"
    },
    "papermill": {
     "duration": 0.042604,
     "end_time": "2020-08-27T23:24:26.780243",
     "exception": false,
     "start_time": "2020-08-27T23:24:26.737639",
     "status": "completed"
    },
    "tags": []
   },
   "outputs": [
    {
     "name": "stdout",
     "output_type": "stream",
     "text": [
      "/kaggle/input/house-prices-advanced-regression-techniques/train.csv\n",
      "/kaggle/input/house-prices-advanced-regression-techniques/test.csv\n",
      "/kaggle/input/house-prices-advanced-regression-techniques/sample_submission.csv\n",
      "/kaggle/input/house-prices-advanced-regression-techniques/data_description.txt\n"
     ]
    }
   ],
   "source": [
    "# This Python 3 environment comes with many helpful analytics libraries installed\n",
    "# It is defined by the kaggle/python Docker image: https://github.com/kaggle/docker-python\n",
    "# For example, here's several helpful packages to load\n",
    "\n",
    "import numpy as np # linear algebra\n",
    "import pandas as pd # data processing, CSV file I/O (e.g. pd.read_csv)\n",
    "\n",
    "# Input data files are available in the read-only \"../input/\" directory\n",
    "# For example, running this (by clicking run or pressing Shift+Enter) will list all files under the input directory\n",
    "\n",
    "import os\n",
    "for dirname, _, filenames in os.walk('/kaggle/input'):\n",
    "    for filename in filenames:\n",
    "        print(os.path.join(dirname, filename))\n",
    "\n",
    "# You can write up to 5GB to the current directory (/kaggle/working/) that gets preserved as output when you create a version using \"Save & Run All\" \n",
    "# You can also write temporary files to /kaggle/temp/, but they won't be saved outside of the current session"
   ]
  },
  {
   "cell_type": "markdown",
   "execution_count": null,
   "metadata": {
    "papermill": {
     "duration": 0.027246,
     "end_time": "2020-08-27T23:24:26.836288",
     "exception": false,
     "start_time": "2020-08-27T23:24:26.809042",
     "status": "completed"
    },
    "tags": []
   },
   "source": [
    "# Findouts"
   ]
  },
  {
   "cell_type": "markdown",
   "execution_count": null,
   "metadata": {
    "papermill": {
     "duration": 0.027439,
     "end_time": "2020-08-27T23:24:26.891039",
     "exception": false,
     "start_time": "2020-08-27T23:24:26.863600",
     "status": "completed"
    },
    "tags": []
   },
   "source": [
    "1. Importing important libraries\n",
    "2. Reading dataset\n",
    "3. Data visualization\n",
    "4. Feature Engineering\n",
    "5. Data pre-processing\n",
    "6. Building models\n",
    "7. Base models\n",
    "8. Stacking models\n",
    "9. Submission\n",
    "10. Conclusion"
   ]
  },
  {
   "cell_type": "markdown",
   "execution_count": null,
   "metadata": {
    "papermill": {
     "duration": 0.026838,
     "end_time": "2020-08-27T23:24:26.945300",
     "exception": false,
     "start_time": "2020-08-27T23:24:26.918462",
     "status": "completed"
    },
    "tags": []
   },
   "source": [
    "# Importing important libraries..."
   ]
  },
  {
   "cell_type": "code",
   "execution_count": 2,
   "metadata": {
    "execution": {
     "iopub.execute_input": "2020-08-27T23:24:27.009757Z",
     "iopub.status.busy": "2020-08-27T23:24:27.008096Z",
     "iopub.status.idle": "2020-08-27T23:24:28.030617Z",
     "shell.execute_reply": "2020-08-27T23:24:28.029986Z"
    },
    "papermill": {
     "duration": 1.058273,
     "end_time": "2020-08-27T23:24:28.030752",
     "exception": false,
     "start_time": "2020-08-27T23:24:26.972479",
     "status": "completed"
    },
    "tags": []
   },
   "outputs": [],
   "source": [
    "# here we are importing libraries for doing further analysis.\n",
    "import pandas as pd\n",
    "import numpy as np\n",
    "import matplotlib.pyplot as plt\n",
    "%matplotlib inline\n",
    "import seaborn as sns\n",
    "import warnings\n",
    "warnings.filterwarnings(\"ignore\")\n",
    "from scipy import stats\n",
    "from scipy.stats import norm, skew"
   ]
  },
  {
   "cell_type": "markdown",
   "execution_count": null,
   "metadata": {
    "papermill": {
     "duration": 0.026851,
     "end_time": "2020-08-27T23:24:28.084921",
     "exception": false,
     "start_time": "2020-08-27T23:24:28.058070",
     "status": "completed"
    },
    "tags": []
   },
   "source": [
    "# Reading dataset..."
   ]
  },
  {
   "cell_type": "code",
   "execution_count": 3,
   "metadata": {
    "execution": {
     "iopub.execute_input": "2020-08-27T23:24:28.147840Z",
     "iopub.status.busy": "2020-08-27T23:24:28.147029Z",
     "iopub.status.idle": "2020-08-27T23:24:28.225915Z",
     "shell.execute_reply": "2020-08-27T23:24:28.225066Z"
    },
    "papermill": {
     "duration": 0.113653,
     "end_time": "2020-08-27T23:24:28.226046",
     "exception": false,
     "start_time": "2020-08-27T23:24:28.112393",
     "status": "completed"
    },
    "tags": []
   },
   "outputs": [],
   "source": [
    "Train = pd.read_csv(\"../input/house-prices-advanced-regression-techniques/train.csv\")\n",
    "Test = pd.read_csv(\"../input/house-prices-advanced-regression-techniques/test.csv\")"
   ]
  },
  {
   "cell_type": "code",
   "execution_count": 4,
   "metadata": {
    "execution": {
     "iopub.execute_input": "2020-08-27T23:24:28.308122Z",
     "iopub.status.busy": "2020-08-27T23:24:28.307362Z",
     "iopub.status.idle": "2020-08-27T23:24:28.324529Z",
     "shell.execute_reply": "2020-08-27T23:24:28.323799Z"
    },
    "papermill": {
     "duration": 0.070805,
     "end_time": "2020-08-27T23:24:28.324664",
     "exception": false,
     "start_time": "2020-08-27T23:24:28.253859",
     "status": "completed"
    },
    "tags": []
   },
   "outputs": [
    {
     "data": {
      "text/html": [
       "<div>\n",
       "<style scoped>\n",
       "    .dataframe tbody tr th:only-of-type {\n",
       "        vertical-align: middle;\n",
       "    }\n",
       "\n",
       "    .dataframe tbody tr th {\n",
       "        vertical-align: top;\n",
       "    }\n",
       "\n",
       "    .dataframe thead th {\n",
       "        text-align: right;\n",
       "    }\n",
       "</style>\n",
       "<table border=\"1\" class=\"dataframe\">\n",
       "  <thead>\n",
       "    <tr style=\"text-align: right;\">\n",
       "      <th></th>\n",
       "      <th>Id</th>\n",
       "      <th>MSSubClass</th>\n",
       "      <th>MSZoning</th>\n",
       "      <th>LotFrontage</th>\n",
       "      <th>LotArea</th>\n",
       "      <th>Street</th>\n",
       "      <th>Alley</th>\n",
       "      <th>LotShape</th>\n",
       "      <th>LandContour</th>\n",
       "      <th>Utilities</th>\n",
       "      <th>...</th>\n",
       "      <th>PoolArea</th>\n",
       "      <th>PoolQC</th>\n",
       "      <th>Fence</th>\n",
       "      <th>MiscFeature</th>\n",
       "      <th>MiscVal</th>\n",
       "      <th>MoSold</th>\n",
       "      <th>YrSold</th>\n",
       "      <th>SaleType</th>\n",
       "      <th>SaleCondition</th>\n",
       "      <th>SalePrice</th>\n",
       "    </tr>\n",
       "  </thead>\n",
       "  <tbody>\n",
       "    <tr>\n",
       "      <th>0</th>\n",
       "      <td>1</td>\n",
       "      <td>60</td>\n",
       "      <td>RL</td>\n",
       "      <td>65.0</td>\n",
       "      <td>8450</td>\n",
       "      <td>Pave</td>\n",
       "      <td>NaN</td>\n",
       "      <td>Reg</td>\n",
       "      <td>Lvl</td>\n",
       "      <td>AllPub</td>\n",
       "      <td>...</td>\n",
       "      <td>0</td>\n",
       "      <td>NaN</td>\n",
       "      <td>NaN</td>\n",
       "      <td>NaN</td>\n",
       "      <td>0</td>\n",
       "      <td>2</td>\n",
       "      <td>2008</td>\n",
       "      <td>WD</td>\n",
       "      <td>Normal</td>\n",
       "      <td>208500</td>\n",
       "    </tr>\n",
       "    <tr>\n",
       "      <th>1</th>\n",
       "      <td>2</td>\n",
       "      <td>20</td>\n",
       "      <td>RL</td>\n",
       "      <td>80.0</td>\n",
       "      <td>9600</td>\n",
       "      <td>Pave</td>\n",
       "      <td>NaN</td>\n",
       "      <td>Reg</td>\n",
       "      <td>Lvl</td>\n",
       "      <td>AllPub</td>\n",
       "      <td>...</td>\n",
       "      <td>0</td>\n",
       "      <td>NaN</td>\n",
       "      <td>NaN</td>\n",
       "      <td>NaN</td>\n",
       "      <td>0</td>\n",
       "      <td>5</td>\n",
       "      <td>2007</td>\n",
       "      <td>WD</td>\n",
       "      <td>Normal</td>\n",
       "      <td>181500</td>\n",
       "    </tr>\n",
       "    <tr>\n",
       "      <th>2</th>\n",
       "      <td>3</td>\n",
       "      <td>60</td>\n",
       "      <td>RL</td>\n",
       "      <td>68.0</td>\n",
       "      <td>11250</td>\n",
       "      <td>Pave</td>\n",
       "      <td>NaN</td>\n",
       "      <td>IR1</td>\n",
       "      <td>Lvl</td>\n",
       "      <td>AllPub</td>\n",
       "      <td>...</td>\n",
       "      <td>0</td>\n",
       "      <td>NaN</td>\n",
       "      <td>NaN</td>\n",
       "      <td>NaN</td>\n",
       "      <td>0</td>\n",
       "      <td>9</td>\n",
       "      <td>2008</td>\n",
       "      <td>WD</td>\n",
       "      <td>Normal</td>\n",
       "      <td>223500</td>\n",
       "    </tr>\n",
       "    <tr>\n",
       "      <th>3</th>\n",
       "      <td>4</td>\n",
       "      <td>70</td>\n",
       "      <td>RL</td>\n",
       "      <td>60.0</td>\n",
       "      <td>9550</td>\n",
       "      <td>Pave</td>\n",
       "      <td>NaN</td>\n",
       "      <td>IR1</td>\n",
       "      <td>Lvl</td>\n",
       "      <td>AllPub</td>\n",
       "      <td>...</td>\n",
       "      <td>0</td>\n",
       "      <td>NaN</td>\n",
       "      <td>NaN</td>\n",
       "      <td>NaN</td>\n",
       "      <td>0</td>\n",
       "      <td>2</td>\n",
       "      <td>2006</td>\n",
       "      <td>WD</td>\n",
       "      <td>Abnorml</td>\n",
       "      <td>140000</td>\n",
       "    </tr>\n",
       "    <tr>\n",
       "      <th>4</th>\n",
       "      <td>5</td>\n",
       "      <td>60</td>\n",
       "      <td>RL</td>\n",
       "      <td>84.0</td>\n",
       "      <td>14260</td>\n",
       "      <td>Pave</td>\n",
       "      <td>NaN</td>\n",
       "      <td>IR1</td>\n",
       "      <td>Lvl</td>\n",
       "      <td>AllPub</td>\n",
       "      <td>...</td>\n",
       "      <td>0</td>\n",
       "      <td>NaN</td>\n",
       "      <td>NaN</td>\n",
       "      <td>NaN</td>\n",
       "      <td>0</td>\n",
       "      <td>12</td>\n",
       "      <td>2008</td>\n",
       "      <td>WD</td>\n",
       "      <td>Normal</td>\n",
       "      <td>250000</td>\n",
       "    </tr>\n",
       "  </tbody>\n",
       "</table>\n",
       "<p>5 rows × 81 columns</p>\n",
       "</div>"
      ],
      "text/plain": [
       "   Id  MSSubClass MSZoning  LotFrontage  LotArea Street Alley LotShape  \\\n",
       "0   1          60       RL         65.0     8450   Pave   NaN      Reg   \n",
       "1   2          20       RL         80.0     9600   Pave   NaN      Reg   \n",
       "2   3          60       RL         68.0    11250   Pave   NaN      IR1   \n",
       "3   4          70       RL         60.0     9550   Pave   NaN      IR1   \n",
       "4   5          60       RL         84.0    14260   Pave   NaN      IR1   \n",
       "\n",
       "  LandContour Utilities  ... PoolArea PoolQC Fence MiscFeature MiscVal MoSold  \\\n",
       "0         Lvl    AllPub  ...        0    NaN   NaN         NaN       0      2   \n",
       "1         Lvl    AllPub  ...        0    NaN   NaN         NaN       0      5   \n",
       "2         Lvl    AllPub  ...        0    NaN   NaN         NaN       0      9   \n",
       "3         Lvl    AllPub  ...        0    NaN   NaN         NaN       0      2   \n",
       "4         Lvl    AllPub  ...        0    NaN   NaN         NaN       0     12   \n",
       "\n",
       "  YrSold  SaleType  SaleCondition  SalePrice  \n",
       "0   2008        WD         Normal     208500  \n",
       "1   2007        WD         Normal     181500  \n",
       "2   2008        WD         Normal     223500  \n",
       "3   2006        WD        Abnorml     140000  \n",
       "4   2008        WD         Normal     250000  \n",
       "\n",
       "[5 rows x 81 columns]"
      ]
     },
     "execution_count": 4,
     "metadata": {},
     "output_type": "execute_result"
    }
   ],
   "source": [
    "# here we are printing first 5 lines of our train dataset\n",
    "Train.head()"
   ]
  },
  {
   "cell_type": "code",
   "execution_count": 5,
   "metadata": {
    "execution": {
     "iopub.execute_input": "2020-08-27T23:24:28.395547Z",
     "iopub.status.busy": "2020-08-27T23:24:28.388730Z",
     "iopub.status.idle": "2020-08-27T23:24:28.415785Z",
     "shell.execute_reply": "2020-08-27T23:24:28.415072Z"
    },
    "papermill": {
     "duration": 0.063449,
     "end_time": "2020-08-27T23:24:28.415915",
     "exception": false,
     "start_time": "2020-08-27T23:24:28.352466",
     "status": "completed"
    },
    "tags": []
   },
   "outputs": [
    {
     "data": {
      "text/html": [
       "<div>\n",
       "<style scoped>\n",
       "    .dataframe tbody tr th:only-of-type {\n",
       "        vertical-align: middle;\n",
       "    }\n",
       "\n",
       "    .dataframe tbody tr th {\n",
       "        vertical-align: top;\n",
       "    }\n",
       "\n",
       "    .dataframe thead th {\n",
       "        text-align: right;\n",
       "    }\n",
       "</style>\n",
       "<table border=\"1\" class=\"dataframe\">\n",
       "  <thead>\n",
       "    <tr style=\"text-align: right;\">\n",
       "      <th></th>\n",
       "      <th>Id</th>\n",
       "      <th>MSSubClass</th>\n",
       "      <th>MSZoning</th>\n",
       "      <th>LotFrontage</th>\n",
       "      <th>LotArea</th>\n",
       "      <th>Street</th>\n",
       "      <th>Alley</th>\n",
       "      <th>LotShape</th>\n",
       "      <th>LandContour</th>\n",
       "      <th>Utilities</th>\n",
       "      <th>...</th>\n",
       "      <th>ScreenPorch</th>\n",
       "      <th>PoolArea</th>\n",
       "      <th>PoolQC</th>\n",
       "      <th>Fence</th>\n",
       "      <th>MiscFeature</th>\n",
       "      <th>MiscVal</th>\n",
       "      <th>MoSold</th>\n",
       "      <th>YrSold</th>\n",
       "      <th>SaleType</th>\n",
       "      <th>SaleCondition</th>\n",
       "    </tr>\n",
       "  </thead>\n",
       "  <tbody>\n",
       "    <tr>\n",
       "      <th>0</th>\n",
       "      <td>1461</td>\n",
       "      <td>20</td>\n",
       "      <td>RH</td>\n",
       "      <td>80.0</td>\n",
       "      <td>11622</td>\n",
       "      <td>Pave</td>\n",
       "      <td>NaN</td>\n",
       "      <td>Reg</td>\n",
       "      <td>Lvl</td>\n",
       "      <td>AllPub</td>\n",
       "      <td>...</td>\n",
       "      <td>120</td>\n",
       "      <td>0</td>\n",
       "      <td>NaN</td>\n",
       "      <td>MnPrv</td>\n",
       "      <td>NaN</td>\n",
       "      <td>0</td>\n",
       "      <td>6</td>\n",
       "      <td>2010</td>\n",
       "      <td>WD</td>\n",
       "      <td>Normal</td>\n",
       "    </tr>\n",
       "    <tr>\n",
       "      <th>1</th>\n",
       "      <td>1462</td>\n",
       "      <td>20</td>\n",
       "      <td>RL</td>\n",
       "      <td>81.0</td>\n",
       "      <td>14267</td>\n",
       "      <td>Pave</td>\n",
       "      <td>NaN</td>\n",
       "      <td>IR1</td>\n",
       "      <td>Lvl</td>\n",
       "      <td>AllPub</td>\n",
       "      <td>...</td>\n",
       "      <td>0</td>\n",
       "      <td>0</td>\n",
       "      <td>NaN</td>\n",
       "      <td>NaN</td>\n",
       "      <td>Gar2</td>\n",
       "      <td>12500</td>\n",
       "      <td>6</td>\n",
       "      <td>2010</td>\n",
       "      <td>WD</td>\n",
       "      <td>Normal</td>\n",
       "    </tr>\n",
       "    <tr>\n",
       "      <th>2</th>\n",
       "      <td>1463</td>\n",
       "      <td>60</td>\n",
       "      <td>RL</td>\n",
       "      <td>74.0</td>\n",
       "      <td>13830</td>\n",
       "      <td>Pave</td>\n",
       "      <td>NaN</td>\n",
       "      <td>IR1</td>\n",
       "      <td>Lvl</td>\n",
       "      <td>AllPub</td>\n",
       "      <td>...</td>\n",
       "      <td>0</td>\n",
       "      <td>0</td>\n",
       "      <td>NaN</td>\n",
       "      <td>MnPrv</td>\n",
       "      <td>NaN</td>\n",
       "      <td>0</td>\n",
       "      <td>3</td>\n",
       "      <td>2010</td>\n",
       "      <td>WD</td>\n",
       "      <td>Normal</td>\n",
       "    </tr>\n",
       "    <tr>\n",
       "      <th>3</th>\n",
       "      <td>1464</td>\n",
       "      <td>60</td>\n",
       "      <td>RL</td>\n",
       "      <td>78.0</td>\n",
       "      <td>9978</td>\n",
       "      <td>Pave</td>\n",
       "      <td>NaN</td>\n",
       "      <td>IR1</td>\n",
       "      <td>Lvl</td>\n",
       "      <td>AllPub</td>\n",
       "      <td>...</td>\n",
       "      <td>0</td>\n",
       "      <td>0</td>\n",
       "      <td>NaN</td>\n",
       "      <td>NaN</td>\n",
       "      <td>NaN</td>\n",
       "      <td>0</td>\n",
       "      <td>6</td>\n",
       "      <td>2010</td>\n",
       "      <td>WD</td>\n",
       "      <td>Normal</td>\n",
       "    </tr>\n",
       "    <tr>\n",
       "      <th>4</th>\n",
       "      <td>1465</td>\n",
       "      <td>120</td>\n",
       "      <td>RL</td>\n",
       "      <td>43.0</td>\n",
       "      <td>5005</td>\n",
       "      <td>Pave</td>\n",
       "      <td>NaN</td>\n",
       "      <td>IR1</td>\n",
       "      <td>HLS</td>\n",
       "      <td>AllPub</td>\n",
       "      <td>...</td>\n",
       "      <td>144</td>\n",
       "      <td>0</td>\n",
       "      <td>NaN</td>\n",
       "      <td>NaN</td>\n",
       "      <td>NaN</td>\n",
       "      <td>0</td>\n",
       "      <td>1</td>\n",
       "      <td>2010</td>\n",
       "      <td>WD</td>\n",
       "      <td>Normal</td>\n",
       "    </tr>\n",
       "  </tbody>\n",
       "</table>\n",
       "<p>5 rows × 80 columns</p>\n",
       "</div>"
      ],
      "text/plain": [
       "     Id  MSSubClass MSZoning  LotFrontage  LotArea Street Alley LotShape  \\\n",
       "0  1461          20       RH         80.0    11622   Pave   NaN      Reg   \n",
       "1  1462          20       RL         81.0    14267   Pave   NaN      IR1   \n",
       "2  1463          60       RL         74.0    13830   Pave   NaN      IR1   \n",
       "3  1464          60       RL         78.0     9978   Pave   NaN      IR1   \n",
       "4  1465         120       RL         43.0     5005   Pave   NaN      IR1   \n",
       "\n",
       "  LandContour Utilities  ... ScreenPorch PoolArea PoolQC  Fence MiscFeature  \\\n",
       "0         Lvl    AllPub  ...         120        0    NaN  MnPrv         NaN   \n",
       "1         Lvl    AllPub  ...           0        0    NaN    NaN        Gar2   \n",
       "2         Lvl    AllPub  ...           0        0    NaN  MnPrv         NaN   \n",
       "3         Lvl    AllPub  ...           0        0    NaN    NaN         NaN   \n",
       "4         HLS    AllPub  ...         144        0    NaN    NaN         NaN   \n",
       "\n",
       "  MiscVal MoSold  YrSold  SaleType  SaleCondition  \n",
       "0       0      6    2010        WD         Normal  \n",
       "1   12500      6    2010        WD         Normal  \n",
       "2       0      3    2010        WD         Normal  \n",
       "3       0      6    2010        WD         Normal  \n",
       "4       0      1    2010        WD         Normal  \n",
       "\n",
       "[5 rows x 80 columns]"
      ]
     },
     "execution_count": 5,
     "metadata": {},
     "output_type": "execute_result"
    }
   ],
   "source": [
    "# Here we are printing first 5 line of our test dataset\n",
    "Test.head()"
   ]
  },
  {
   "cell_type": "markdown",
   "execution_count": null,
   "metadata": {
    "papermill": {
     "duration": 0.02772,
     "end_time": "2020-08-27T23:24:28.472012",
     "exception": false,
     "start_time": "2020-08-27T23:24:28.444292",
     "status": "completed"
    },
    "tags": []
   },
   "source": [
    "# Data visualization"
   ]
  },
  {
   "cell_type": "code",
   "execution_count": 6,
   "metadata": {
    "execution": {
     "iopub.execute_input": "2020-08-27T23:24:28.535740Z",
     "iopub.status.busy": "2020-08-27T23:24:28.534968Z",
     "iopub.status.idle": "2020-08-27T23:24:28.766925Z",
     "shell.execute_reply": "2020-08-27T23:24:28.766206Z"
    },
    "papermill": {
     "duration": 0.266609,
     "end_time": "2020-08-27T23:24:28.767047",
     "exception": false,
     "start_time": "2020-08-27T23:24:28.500438",
     "status": "completed"
    },
    "tags": []
   },
   "outputs": [
    {
     "data": {
      "image/png": "[encoded data removed]",
      "text/plain": [
       "<Figure size 432x288 with 1 Axes>"
      ]
     },
     "metadata": {
      "needs_background": "light"
     },
     "output_type": "display_data"
    }
   ],
   "source": [
    "# here we are exploring outliers\n",
    "fig, ax = plt.subplots()\n",
    "ax.scatter(x = Train['GrLivArea'], y = Train['SalePrice'])\n",
    "plt.ylabel('SalePrice', fontsize=13)\n",
    "plt.xlabel('GrLivArea', fontsize=13)\n",
    "plt.show()"
   ]
  },
  {
   "cell_type": "markdown",
   "execution_count": null,
   "metadata": {
    "papermill": {
     "duration": 0.02827,
     "end_time": "2020-08-27T23:24:28.823713",
     "exception": false,
     "start_time": "2020-08-27T23:24:28.795443",
     "status": "completed"
    },
    "tags": []
   },
   "source": [
    "here we can see that at the bottom right two with extremely otliers"
   ]
  },
  {
   "cell_type": "code",
   "execution_count": 7,
   "metadata": {
    "execution": {
     "iopub.execute_input": "2020-08-27T23:24:28.889302Z",
     "iopub.status.busy": "2020-08-27T23:24:28.888397Z",
     "iopub.status.idle": "2020-08-27T23:24:29.074221Z",
     "shell.execute_reply": "2020-08-27T23:24:29.073569Z"
    },
    "papermill": {
     "duration": 0.222302,
     "end_time": "2020-08-27T23:24:29.074342",
     "exception": false,
     "start_time": "2020-08-27T23:24:28.852040",
     "status": "completed"
    },
    "tags": []
   },
   "outputs": [
    {
     "data": {
      "image/png": "[encoded data removed]",
      "text/plain": [
       "<Figure size 432x288 with 1 Axes>"
      ]
     },
     "metadata": {
      "needs_background": "light"
     },
     "output_type": "display_data"
    }
   ],
   "source": [
    "# here we are deleting outliers\n",
    "Train = Train.drop(Train[(Train['GrLivArea']>4000) & (Train['SalePrice']<300000)].index)\n",
    "\n",
    "#Checking graphic again\n",
    "fig, ax = plt.subplots()\n",
    "ax.scatter(Train['GrLivArea'], Train['SalePrice'])\n",
    "plt.ylabel('SalePrice', fontsize=13)\n",
    "plt.xlabel('GrLivArea', fontsize=13)\n",
    "plt.show()"
   ]
  },
  {
   "cell_type": "markdown",
   "execution_count": null,
   "metadata": {
    "papermill": {
     "duration": 0.028426,
     "end_time": "2020-08-27T23:24:29.131831",
     "exception": false,
     "start_time": "2020-08-27T23:24:29.103405",
     "status": "completed"
    },
    "tags": []
   },
   "source": [
    "Traget Variable.\n",
    "SalePrice is the variable we need to predict, So let's do some analysis on this variable first."
   ]
  },
  {
   "cell_type": "code",
   "execution_count": 8,
   "metadata": {
    "execution": {
     "iopub.execute_input": "2020-08-27T23:24:29.204201Z",
     "iopub.status.busy": "2020-08-27T23:24:29.198512Z",
     "iopub.status.idle": "2020-08-27T23:24:30.000572Z",
     "shell.execute_reply": "2020-08-27T23:24:30.001104Z"
    },
    "papermill": {
     "duration": 0.840482,
     "end_time": "2020-08-27T23:24:30.001287",
     "exception": false,
     "start_time": "2020-08-27T23:24:29.160805",
     "status": "completed"
    },
    "tags": []
   },
   "outputs": [
    {
     "name": "stdout",
     "output_type": "stream",
     "text": [
      "\n",
      " mu = 180932.92 and sigma = 79467.79\n",
      "\n"
     ]
    },
    {
     "data": {
      "image/png": "[encoded data removed]",
      "text/plain": [
       "<Figure size 432x288 with 1 Axes>"
      ]
     },
     "metadata": {
      "needs_background": "light"
     },
     "output_type": "display_data"
    },
    {
     "data": {
      "image/png": "[encoded data removed]",
      "text/plain": [
       "<Figure size 432x288 with 1 Axes>"
      ]
     },
     "metadata": {
      "needs_background": "light"
     },
     "output_type": "display_data"
    }
   ],
   "source": [
    "sns.distplot(Train['SalePrice'] , fit=norm);\n",
    "\n",
    "# Get the fitted parameters used by the function\n",
    "(mu, sigma) = norm.fit(Train['SalePrice'])\n",
    "print( '\\n mu = {:.2f} and sigma = {:.2f}\\n'.format(mu, sigma))\n",
    "\n",
    "#Now plot the distribution\n",
    "plt.legend(['Normal dist. ($\\mu=$ {:.2f} and $\\sigma=$ {:.2f} )'.format(mu, sigma)],\n",
    "            loc='best')\n",
    "plt.ylabel('Frequency')\n",
    "plt.title('SalePrice distribution')\n",
    "\n",
    "#Plot the QQ-plot\n",
    "fig = plt.figure()\n",
    "res = stats.probplot(Train['SalePrice'], plot=plt)\n",
    "plt.show()"
   ]
  },
  {
   "cell_type": "markdown",
   "execution_count": null,
   "metadata": {
    "papermill": {
     "duration": 0.029154,
     "end_time": "2020-08-27T23:24:30.060030",
     "exception": false,
     "start_time": "2020-08-27T23:24:30.030876",
     "status": "completed"
    },
    "tags": []
   },
   "source": [
    "here we are doing Log-transformation of the target variable."
   ]
  },
  {
   "cell_type": "code",
   "execution_count": 9,
   "metadata": {
    "execution": {
     "iopub.execute_input": "2020-08-27T23:24:30.129505Z",
     "iopub.status.busy": "2020-08-27T23:24:30.128288Z",
     "iopub.status.idle": "2020-08-27T23:24:30.716735Z",
     "shell.execute_reply": "2020-08-27T23:24:30.717358Z"
    },
    "papermill": {
     "duration": 0.628062,
     "end_time": "2020-08-27T23:24:30.717525",
     "exception": false,
     "start_time": "2020-08-27T23:24:30.089463",
     "status": "completed"
    },
    "tags": []
   },
   "outputs": [
    {
     "name": "stdout",
     "output_type": "stream",
     "text": [
      "\n",
      " mu = 12.02 and sigma = 0.40\n",
      "\n"
     ]
    },
    {
     "data": {
      "image/png": "[encoded data removed]",
      "text/plain": [
       "<Figure size 432x288 with 1 Axes>"
      ]
     },
     "metadata": {
      "needs_background": "light"
     },
     "output_type": "display_data"
    },
    {
     "data": {
      "image/png": "[encoded data removed]",
      "text/plain": [
       "<Figure size 432x288 with 1 Axes>"
      ]
     },
     "metadata": {
      "needs_background": "light"
     },
     "output_type": "display_data"
    }
   ],
   "source": [
    "#We use the numpy fuction log1p which  applies log(1+x) to all elements of the column\n",
    "Train[\"SalePrice\"] = np.log1p(Train[\"SalePrice\"])\n",
    "\n",
    "#Checking the new distribution \n",
    "sns.distplot(Train['SalePrice'] , fit=norm);\n",
    "\n",
    "# Get the fitted parameters used by the function\n",
    "(mu, sigma) = norm.fit(Train['SalePrice'])\n",
    "print( '\\n mu = {:.2f} and sigma = {:.2f}\\n'.format(mu, sigma))\n",
    "\n",
    "#Now plot the distribution\n",
    "plt.legend(['Normal dist. ($\\mu=$ {:.2f} and $\\sigma=$ {:.2f} )'.format(mu, sigma)],\n",
    "            loc='best')\n",
    "plt.ylabel('Frequency')\n",
    "plt.title('SalePrice distribution')\n",
    "\n",
    "#Plot the QQ-plot\n",
    "fig = plt.figure()\n",
    "res = stats.probplot(Train['SalePrice'], plot=plt)\n",
    "plt.show()"
   ]
  },
  {
   "cell_type": "markdown",
   "execution_count": null,
   "metadata": {
    "papermill": {
     "duration": 0.029813,
     "end_time": "2020-08-27T23:24:30.777620",
     "exception": false,
     "start_time": "2020-08-27T23:24:30.747807",
     "status": "completed"
    },
    "tags": []
   },
   "source": [
    "# Feature Engineering..."
   ]
  },
  {
   "cell_type": "code",
   "execution_count": 10,
   "metadata": {
    "execution": {
     "iopub.execute_input": "2020-08-27T23:24:30.852045Z",
     "iopub.status.busy": "2020-08-27T23:24:30.851299Z",
     "iopub.status.idle": "2020-08-27T23:24:30.867727Z",
     "shell.execute_reply": "2020-08-27T23:24:30.866678Z"
    },
    "papermill": {
     "duration": 0.060157,
     "end_time": "2020-08-27T23:24:30.867902",
     "exception": false,
     "start_time": "2020-08-27T23:24:30.807745",
     "status": "completed"
    },
    "tags": []
   },
   "outputs": [
    {
     "name": "stdout",
     "output_type": "stream",
     "text": [
      "Id                 0\n",
      "MSSubClass         0\n",
      "MSZoning           0\n",
      "LotFrontage      259\n",
      "LotArea            0\n",
      "                ... \n",
      "MoSold             0\n",
      "YrSold             0\n",
      "SaleType           0\n",
      "SaleCondition      0\n",
      "SalePrice          0\n",
      "Length: 81, dtype: int64\n",
      "6958\n"
     ]
    }
   ],
   "source": [
    "# here we are printing sum of all null values in train dataset\n",
    "print(Train.isnull().sum())\n",
    "print(sum(Train.isnull().sum()))"
   ]
  },
  {
   "cell_type": "code",
   "execution_count": 11,
   "metadata": {
    "execution": {
     "iopub.execute_input": "2020-08-27T23:24:30.941744Z",
     "iopub.status.busy": "2020-08-27T23:24:30.940912Z",
     "iopub.status.idle": "2020-08-27T23:24:30.958437Z",
     "shell.execute_reply": "2020-08-27T23:24:30.957620Z"
    },
    "papermill": {
     "duration": 0.059676,
     "end_time": "2020-08-27T23:24:30.958565",
     "exception": false,
     "start_time": "2020-08-27T23:24:30.898889",
     "status": "completed"
    },
    "tags": []
   },
   "outputs": [
    {
     "name": "stdout",
     "output_type": "stream",
     "text": [
      "Id                 0\n",
      "MSSubClass         0\n",
      "MSZoning           4\n",
      "LotFrontage      227\n",
      "LotArea            0\n",
      "                ... \n",
      "MiscVal            0\n",
      "MoSold             0\n",
      "YrSold             0\n",
      "SaleType           1\n",
      "SaleCondition      0\n",
      "Length: 80, dtype: int64\n",
      "7000\n"
     ]
    }
   ],
   "source": [
    "# here we are printing sum of all null values in test dataset\n",
    "print(Test.isnull().sum())\n",
    "print(sum(Test.isnull().sum()))"
   ]
  },
  {
   "cell_type": "code",
   "execution_count": 12,
   "metadata": {
    "execution": {
     "iopub.execute_input": "2020-08-27T23:24:31.026280Z",
     "iopub.status.busy": "2020-08-27T23:24:31.025228Z",
     "iopub.status.idle": "2020-08-27T23:24:31.029853Z",
     "shell.execute_reply": "2020-08-27T23:24:31.028919Z"
    },
    "papermill": {
     "duration": 0.040715,
     "end_time": "2020-08-27T23:24:31.030029",
     "exception": false,
     "start_time": "2020-08-27T23:24:30.989314",
     "status": "completed"
    },
    "tags": []
   },
   "outputs": [
    {
     "name": "stdout",
     "output_type": "stream",
     "text": [
      "Train shape: (1458, 81)\n",
      "Test shape: (1459, 80)\n"
     ]
    }
   ],
   "source": [
    "# here we are printing shape of our train and test dataset\n",
    "print(\"Train shape:\", Train.shape)\n",
    "print(\"Test shape:\", Test.shape)"
   ]
  },
  {
   "cell_type": "code",
   "execution_count": 13,
   "metadata": {
    "execution": {
     "iopub.execute_input": "2020-08-27T23:24:31.106465Z",
     "iopub.status.busy": "2020-08-27T23:24:31.105679Z",
     "iopub.status.idle": "2020-08-27T23:24:31.130321Z",
     "shell.execute_reply": "2020-08-27T23:24:31.129464Z"
    },
    "papermill": {
     "duration": 0.069191,
     "end_time": "2020-08-27T23:24:31.130483",
     "exception": false,
     "start_time": "2020-08-27T23:24:31.061292",
     "status": "completed"
    },
    "tags": []
   },
   "outputs": [
    {
     "name": "stdout",
     "output_type": "stream",
     "text": [
      "<class 'pandas.core.frame.DataFrame'>\n",
      "Int64Index: 1458 entries, 0 to 1459\n",
      "Data columns (total 81 columns):\n",
      " #   Column         Non-Null Count  Dtype  \n",
      "---  ------         --------------  -----  \n",
      " 0   Id             1458 non-null   int64  \n",
      " 1   MSSubClass     1458 non-null   int64  \n",
      " 2   MSZoning       1458 non-null   object \n",
      " 3   LotFrontage    1199 non-null   float64\n",
      " 4   LotArea        1458 non-null   int64  \n",
      " 5   Street         1458 non-null   object \n",
      " 6   Alley          91 non-null     object \n",
      " 7   LotShape       1458 non-null   object \n",
      " 8   LandContour    1458 non-null   object \n",
      " 9   Utilities      1458 non-null   object \n",
      " 10  LotConfig      1458 non-null   object \n",
      " 11  LandSlope      1458 non-null   object \n",
      " 12  Neighborhood   1458 non-null   object \n",
      " 13  Condition1     1458 non-null   object \n",
      " 14  Condition2     1458 non-null   object \n",
      " 15  BldgType       1458 non-null   object \n",
      " 16  HouseStyle     1458 non-null   object \n",
      " 17  OverallQual    1458 non-null   int64  \n",
      " 18  OverallCond    1458 non-null   int64  \n",
      " 19  YearBuilt      1458 non-null   int64  \n",
      " 20  YearRemodAdd   1458 non-null   int64  \n",
      " 21  RoofStyle      1458 non-null   object \n",
      " 22  RoofMatl       1458 non-null   object \n",
      " 23  Exterior1st    1458 non-null   object \n",
      " 24  Exterior2nd    1458 non-null   object \n",
      " 25  MasVnrType     1450 non-null   object \n",
      " 26  MasVnrArea     1450 non-null   float64\n",
      " 27  ExterQual      1458 non-null   object \n",
      " 28  ExterCond      1458 non-null   object \n",
      " 29  Foundation     1458 non-null   object \n",
      " 30  BsmtQual       1421 non-null   object \n",
      " 31  BsmtCond       1421 non-null   object \n",
      " 32  BsmtExposure   1420 non-null   object \n",
      " 33  BsmtFinType1   1421 non-null   object \n",
      " 34  BsmtFinSF1     1458 non-null   int64  \n",
      " 35  BsmtFinType2   1420 non-null   object \n",
      " 36  BsmtFinSF2     1458 non-null   int64  \n",
      " 37  BsmtUnfSF      1458 non-null   int64  \n",
      " 38  TotalBsmtSF    1458 non-null   int64  \n",
      " 39  Heating        1458 non-null   object \n",
      " 40  HeatingQC      1458 non-null   object \n",
      " 41  CentralAir     1458 non-null   object \n",
      " 42  Electrical     1457 non-null   object \n",
      " 43  1stFlrSF       1458 non-null   int64  \n",
      " 44  2ndFlrSF       1458 non-null   int64  \n",
      " 45  LowQualFinSF   1458 non-null   int64  \n",
      " 46  GrLivArea      1458 non-null   int64  \n",
      " 47  BsmtFullBath   1458 non-null   int64  \n",
      " 48  BsmtHalfBath   1458 non-null   int64  \n",
      " 49  FullBath       1458 non-null   int64  \n",
      " 50  HalfBath       1458 non-null   int64  \n",
      " 51  BedroomAbvGr   1458 non-null   int64  \n",
      " 52  KitchenAbvGr   1458 non-null   int64  \n",
      " 53  KitchenQual    1458 non-null   object \n",
      " 54  TotRmsAbvGrd   1458 non-null   int64  \n",
      " 55  Functional     1458 non-null   object \n",
      " 56  Fireplaces     1458 non-null   int64  \n",
      " 57  FireplaceQu    768 non-null    object \n",
      " 58  GarageType     1377 non-null   object \n",
      " 59  GarageYrBlt    1377 non-null   float64\n",
      " 60  GarageFinish   1377 non-null   object \n",
      " 61  GarageCars     1458 non-null   int64  \n",
      " 62  GarageArea     1458 non-null   int64  \n",
      " 63  GarageQual     1377 non-null   object \n",
      " 64  GarageCond     1377 non-null   object \n",
      " 65  PavedDrive     1458 non-null   object \n",
      " 66  WoodDeckSF     1458 non-null   int64  \n",
      " 67  OpenPorchSF    1458 non-null   int64  \n",
      " 68  EnclosedPorch  1458 non-null   int64  \n",
      " 69  3SsnPorch      1458 non-null   int64  \n",
      " 70  ScreenPorch    1458 non-null   int64  \n",
      " 71  PoolArea       1458 non-null   int64  \n",
      " 72  PoolQC         6 non-null      object \n",
      " 73  Fence          281 non-null    object \n",
      " 74  MiscFeature    54 non-null     object \n",
      " 75  MiscVal        1458 non-null   int64  \n",
      " 76  MoSold         1458 non-null   int64  \n",
      " 77  YrSold         1458 non-null   int64  \n",
      " 78  SaleType       1458 non-null   object \n",
      " 79  SaleCondition  1458 non-null   object \n",
      " 80  SalePrice      1458 non-null   float64\n",
      "dtypes: float64(4), int64(34), object(43)\n",
      "memory usage: 934.0+ KB\n"
     ]
    }
   ],
   "source": [
    "Train.info()\n"
   ]
  },
  {
   "cell_type": "code",
   "execution_count": 14,
   "metadata": {
    "execution": {
     "iopub.execute_input": "2020-08-27T23:24:31.206666Z",
     "iopub.status.busy": "2020-08-27T23:24:31.205532Z",
     "iopub.status.idle": "2020-08-27T23:24:31.225786Z",
     "shell.execute_reply": "2020-08-27T23:24:31.225090Z"
    },
    "papermill": {
     "duration": 0.063803,
     "end_time": "2020-08-27T23:24:31.225913",
     "exception": false,
     "start_time": "2020-08-27T23:24:31.162110",
     "status": "completed"
    },
    "tags": []
   },
   "outputs": [
    {
     "name": "stdout",
     "output_type": "stream",
     "text": [
      "<class 'pandas.core.frame.DataFrame'>\n",
      "RangeIndex: 1459 entries, 0 to 1458\n",
      "Data columns (total 80 columns):\n",
      " #   Column         Non-Null Count  Dtype  \n",
      "---  ------         --------------  -----  \n",
      " 0   Id             1459 non-null   int64  \n",
      " 1   MSSubClass     1459 non-null   int64  \n",
      " 2   MSZoning       1455 non-null   object \n",
      " 3   LotFrontage    1232 non-null   float64\n",
      " 4   LotArea        1459 non-null   int64  \n",
      " 5   Street         1459 non-null   object \n",
      " 6   Alley          107 non-null    object \n",
      " 7   LotShape       1459 non-null   object \n",
      " 8   LandContour    1459 non-null   object \n",
      " 9   Utilities      1457 non-null   object \n",
      " 10  LotConfig      1459 non-null   object \n",
      " 11  LandSlope      1459 non-null   object \n",
      " 12  Neighborhood   1459 non-null   object \n",
      " 13  Condition1     1459 non-null   object \n",
      " 14  Condition2     1459 non-null   object \n",
      " 15  BldgType       1459 non-null   object \n",
      " 16  HouseStyle     1459 non-null   object \n",
      " 17  OverallQual    1459 non-null   int64  \n",
      " 18  OverallCond    1459 non-null   int64  \n",
      " 19  YearBuilt      1459 non-null   int64  \n",
      " 20  YearRemodAdd   1459 non-null   int64  \n",
      " 21  RoofStyle      1459 non-null   object \n",
      " 22  RoofMatl       1459 non-null   object \n",
      " 23  Exterior1st    1458 non-null   object \n",
      " 24  Exterior2nd    1458 non-null   object \n",
      " 25  MasVnrType     1443 non-null   object \n",
      " 26  MasVnrArea     1444 non-null   float64\n",
      " 27  ExterQual      1459 non-null   object \n",
      " 28  ExterCond      1459 non-null   object \n",
      " 29  Foundation     1459 non-null   object \n",
      " 30  BsmtQual       1415 non-null   object \n",
      " 31  BsmtCond       1414 non-null   object \n",
      " 32  BsmtExposure   1415 non-null   object \n",
      " 33  BsmtFinType1   1417 non-null   object \n",
      " 34  BsmtFinSF1     1458 non-null   float64\n",
      " 35  BsmtFinType2   1417 non-null   object \n",
      " 36  BsmtFinSF2     1458 non-null   float64\n",
      " 37  BsmtUnfSF      1458 non-null   float64\n",
      " 38  TotalBsmtSF    1458 non-null   float64\n",
      " 39  Heating        1459 non-null   object \n",
      " 40  HeatingQC      1459 non-null   object \n",
      " 41  CentralAir     1459 non-null   object \n",
      " 42  Electrical     1459 non-null   object \n",
      " 43  1stFlrSF       1459 non-null   int64  \n",
      " 44  2ndFlrSF       1459 non-null   int64  \n",
      " 45  LowQualFinSF   1459 non-null   int64  \n",
      " 46  GrLivArea      1459 non-null   int64  \n",
      " 47  BsmtFullBath   1457 non-null   float64\n",
      " 48  BsmtHalfBath   1457 non-null   float64\n",
      " 49  FullBath       1459 non-null   int64  \n",
      " 50  HalfBath       1459 non-null   int64  \n",
      " 51  BedroomAbvGr   1459 non-null   int64  \n",
      " 52  KitchenAbvGr   1459 non-null   int64  \n",
      " 53  KitchenQual    1458 non-null   object \n",
      " 54  TotRmsAbvGrd   1459 non-null   int64  \n",
      " 55  Functional     1457 non-null   object \n",
      " 56  Fireplaces     1459 non-null   int64  \n",
      " 57  FireplaceQu    729 non-null    object \n",
      " 58  GarageType     1383 non-null   object \n",
      " 59  GarageYrBlt    1381 non-null   float64\n",
      " 60  GarageFinish   1381 non-null   object \n",
      " 61  GarageCars     1458 non-null   float64\n",
      " 62  GarageArea     1458 non-null   float64\n",
      " 63  GarageQual     1381 non-null   object \n",
      " 64  GarageCond     1381 non-null   object \n",
      " 65  PavedDrive     1459 non-null   object \n",
      " 66  WoodDeckSF     1459 non-null   int64  \n",
      " 67  OpenPorchSF    1459 non-null   int64  \n",
      " 68  EnclosedPorch  1459 non-null   int64  \n",
      " 69  3SsnPorch      1459 non-null   int64  \n",
      " 70  ScreenPorch    1459 non-null   int64  \n",
      " 71  PoolArea       1459 non-null   int64  \n",
      " 72  PoolQC         3 non-null      object \n",
      " 73  Fence          290 non-null    object \n",
      " 74  MiscFeature    51 non-null     object \n",
      " 75  MiscVal        1459 non-null   int64  \n",
      " 76  MoSold         1459 non-null   int64  \n",
      " 77  YrSold         1459 non-null   int64  \n",
      " 78  SaleType       1458 non-null   object \n",
      " 79  SaleCondition  1459 non-null   object \n",
      "dtypes: float64(11), int64(26), object(43)\n",
      "memory usage: 912.0+ KB\n"
     ]
    }
   ],
   "source": [
    "Test.info()"
   ]
  },
  {
   "cell_type": "code",
   "execution_count": 15,
   "metadata": {
    "_cell_guid": "79c7e3d0-c299-4dcb-8224-4455121ee9b0",
    "_uuid": "d629ff2d2480ee46fbb7e2d37f6b5fab8052498a",
    "execution": {
     "iopub.execute_input": "2020-08-27T23:24:31.299771Z",
     "iopub.status.busy": "2020-08-27T23:24:31.298406Z",
     "iopub.status.idle": "2020-08-27T23:24:31.303307Z",
     "shell.execute_reply": "2020-08-27T23:24:31.302670Z"
    },
    "papermill": {
     "duration": 0.045774,
     "end_time": "2020-08-27T23:24:31.303432",
     "exception": false,
     "start_time": "2020-08-27T23:24:31.257658",
     "status": "completed"
    },
    "tags": []
   },
   "outputs": [],
   "source": [
    "# Saving the 'Id' column\n",
    "train_ID = Train['Id']\n",
    "test_ID = Test['Id']\n",
    "# now we are droping id column because this feature is not neccesary for prediction process\n",
    "Train = Train.drop(\"Id\",axis=1)\n",
    "Test = Test.drop(\"Id\",axis=1)"
   ]
  },
  {
   "cell_type": "code",
   "execution_count": 16,
   "metadata": {
    "execution": {
     "iopub.execute_input": "2020-08-27T23:24:31.372036Z",
     "iopub.status.busy": "2020-08-27T23:24:31.370898Z",
     "iopub.status.idle": "2020-08-27T23:24:31.375201Z",
     "shell.execute_reply": "2020-08-27T23:24:31.375773Z"
    },
    "papermill": {
     "duration": 0.041055,
     "end_time": "2020-08-27T23:24:31.375926",
     "exception": false,
     "start_time": "2020-08-27T23:24:31.334871",
     "status": "completed"
    },
    "tags": []
   },
   "outputs": [
    {
     "name": "stdout",
     "output_type": "stream",
     "text": [
      "Train shape: (1458, 80)\n",
      "Test shape: (1459, 79)\n"
     ]
    }
   ],
   "source": [
    "# here we are again printing shape of our dataset to see that id column is replace or not\n",
    "print(\"Train shape:\", Train.shape)\n",
    "print(\"Test shape:\", Test.shape)"
   ]
  },
  {
   "cell_type": "code",
   "execution_count": 17,
   "metadata": {
    "execution": {
     "iopub.execute_input": "2020-08-27T23:24:31.445958Z",
     "iopub.status.busy": "2020-08-27T23:24:31.444110Z",
     "iopub.status.idle": "2020-08-27T23:24:31.449744Z",
     "shell.execute_reply": "2020-08-27T23:24:31.450307Z"
    },
    "papermill": {
     "duration": 0.043538,
     "end_time": "2020-08-27T23:24:31.450509",
     "exception": false,
     "start_time": "2020-08-27T23:24:31.406971",
     "status": "completed"
    },
    "tags": []
   },
   "outputs": [
    {
     "name": "stdout",
     "output_type": "stream",
     "text": [
      "MSSubClass\n",
      "MSZoning\n",
      "LotFrontage\n",
      "LotArea\n",
      "Street\n",
      "Alley\n",
      "LotShape\n",
      "LandContour\n",
      "Utilities\n",
      "LotConfig\n",
      "LandSlope\n",
      "Neighborhood\n",
      "Condition1\n",
      "Condition2\n",
      "BldgType\n",
      "HouseStyle\n",
      "OverallQual\n",
      "OverallCond\n",
      "YearBuilt\n",
      "YearRemodAdd\n",
      "RoofStyle\n",
      "RoofMatl\n",
      "Exterior1st\n",
      "Exterior2nd\n",
      "MasVnrType\n",
      "MasVnrArea\n",
      "ExterQual\n",
      "ExterCond\n",
      "Foundation\n",
      "BsmtQual\n",
      "BsmtCond\n",
      "BsmtExposure\n",
      "BsmtFinType1\n",
      "BsmtFinSF1\n",
      "BsmtFinType2\n",
      "BsmtFinSF2\n",
      "BsmtUnfSF\n",
      "TotalBsmtSF\n",
      "Heating\n",
      "HeatingQC\n",
      "CentralAir\n",
      "Electrical\n",
      "1stFlrSF\n",
      "2ndFlrSF\n",
      "LowQualFinSF\n",
      "GrLivArea\n",
      "BsmtFullBath\n",
      "BsmtHalfBath\n",
      "FullBath\n",
      "HalfBath\n",
      "BedroomAbvGr\n",
      "KitchenAbvGr\n",
      "KitchenQual\n",
      "TotRmsAbvGrd\n",
      "Functional\n",
      "Fireplaces\n",
      "FireplaceQu\n",
      "GarageType\n",
      "GarageYrBlt\n",
      "GarageFinish\n",
      "GarageCars\n",
      "GarageArea\n",
      "GarageQual\n",
      "GarageCond\n",
      "PavedDrive\n",
      "WoodDeckSF\n",
      "OpenPorchSF\n",
      "EnclosedPorch\n",
      "3SsnPorch\n",
      "ScreenPorch\n",
      "PoolArea\n",
      "PoolQC\n",
      "Fence\n",
      "MiscFeature\n",
      "MiscVal\n",
      "MoSold\n",
      "YrSold\n",
      "SaleType\n",
      "SaleCondition\n",
      "SalePrice\n"
     ]
    }
   ],
   "source": [
    "# here we are printing all the name of columns that are present in our dataset\n",
    "for col in Train.columns: \n",
    "    print(col) "
   ]
  },
  {
   "cell_type": "code",
   "execution_count": 18,
   "metadata": {
    "execution": {
     "iopub.execute_input": "2020-08-27T23:24:31.569503Z",
     "iopub.status.busy": "2020-08-27T23:24:31.568726Z",
     "iopub.status.idle": "2020-08-27T23:24:31.679563Z",
     "shell.execute_reply": "2020-08-27T23:24:31.678905Z"
    },
    "papermill": {
     "duration": 0.1974,
     "end_time": "2020-08-27T23:24:31.679690",
     "exception": false,
     "start_time": "2020-08-27T23:24:31.482290",
     "status": "completed"
    },
    "tags": []
   },
   "outputs": [
    {
     "data": {
      "text/html": [
       "<div>\n",
       "<style scoped>\n",
       "    .dataframe tbody tr th:only-of-type {\n",
       "        vertical-align: middle;\n",
       "    }\n",
       "\n",
       "    .dataframe tbody tr th {\n",
       "        vertical-align: top;\n",
       "    }\n",
       "\n",
       "    .dataframe thead th {\n",
       "        text-align: right;\n",
       "    }\n",
       "</style>\n",
       "<table border=\"1\" class=\"dataframe\">\n",
       "  <thead>\n",
       "    <tr style=\"text-align: right;\">\n",
       "      <th></th>\n",
       "      <th>MSSubClass</th>\n",
       "      <th>LotFrontage</th>\n",
       "      <th>LotArea</th>\n",
       "      <th>OverallQual</th>\n",
       "      <th>OverallCond</th>\n",
       "      <th>YearBuilt</th>\n",
       "      <th>YearRemodAdd</th>\n",
       "      <th>MasVnrArea</th>\n",
       "      <th>BsmtFinSF1</th>\n",
       "      <th>BsmtFinSF2</th>\n",
       "      <th>...</th>\n",
       "      <th>WoodDeckSF</th>\n",
       "      <th>OpenPorchSF</th>\n",
       "      <th>EnclosedPorch</th>\n",
       "      <th>3SsnPorch</th>\n",
       "      <th>ScreenPorch</th>\n",
       "      <th>PoolArea</th>\n",
       "      <th>MiscVal</th>\n",
       "      <th>MoSold</th>\n",
       "      <th>YrSold</th>\n",
       "      <th>SalePrice</th>\n",
       "    </tr>\n",
       "  </thead>\n",
       "  <tbody>\n",
       "    <tr>\n",
       "      <th>count</th>\n",
       "      <td>1458.000000</td>\n",
       "      <td>1199.000000</td>\n",
       "      <td>1458.000000</td>\n",
       "      <td>1458.000000</td>\n",
       "      <td>1458.000000</td>\n",
       "      <td>1458.000000</td>\n",
       "      <td>1458.000000</td>\n",
       "      <td>1450.000000</td>\n",
       "      <td>1458.000000</td>\n",
       "      <td>1458.000000</td>\n",
       "      <td>...</td>\n",
       "      <td>1458.000000</td>\n",
       "      <td>1458.000000</td>\n",
       "      <td>1458.000000</td>\n",
       "      <td>1458.000000</td>\n",
       "      <td>1458.000000</td>\n",
       "      <td>1458.000000</td>\n",
       "      <td>1458.000000</td>\n",
       "      <td>1458.000000</td>\n",
       "      <td>1458.000000</td>\n",
       "      <td>1458.000000</td>\n",
       "    </tr>\n",
       "    <tr>\n",
       "      <th>mean</th>\n",
       "      <td>56.893004</td>\n",
       "      <td>69.797331</td>\n",
       "      <td>10459.936900</td>\n",
       "      <td>6.093964</td>\n",
       "      <td>5.576132</td>\n",
       "      <td>1971.218107</td>\n",
       "      <td>1984.834019</td>\n",
       "      <td>102.753793</td>\n",
       "      <td>438.827160</td>\n",
       "      <td>46.613169</td>\n",
       "      <td>...</td>\n",
       "      <td>94.084362</td>\n",
       "      <td>46.245542</td>\n",
       "      <td>21.984225</td>\n",
       "      <td>3.414266</td>\n",
       "      <td>15.081619</td>\n",
       "      <td>2.433471</td>\n",
       "      <td>43.548697</td>\n",
       "      <td>6.323045</td>\n",
       "      <td>2007.816187</td>\n",
       "      <td>12.024015</td>\n",
       "    </tr>\n",
       "    <tr>\n",
       "      <th>std</th>\n",
       "      <td>42.329437</td>\n",
       "      <td>23.203458</td>\n",
       "      <td>9859.198156</td>\n",
       "      <td>1.376369</td>\n",
       "      <td>1.113359</td>\n",
       "      <td>30.193754</td>\n",
       "      <td>20.641760</td>\n",
       "      <td>179.442156</td>\n",
       "      <td>432.969094</td>\n",
       "      <td>161.420729</td>\n",
       "      <td>...</td>\n",
       "      <td>125.350021</td>\n",
       "      <td>65.312932</td>\n",
       "      <td>61.155666</td>\n",
       "      <td>29.337173</td>\n",
       "      <td>55.792877</td>\n",
       "      <td>38.209947</td>\n",
       "      <td>496.460799</td>\n",
       "      <td>2.700167</td>\n",
       "      <td>1.328826</td>\n",
       "      <td>0.399713</td>\n",
       "    </tr>\n",
       "    <tr>\n",
       "      <th>min</th>\n",
       "      <td>20.000000</td>\n",
       "      <td>21.000000</td>\n",
       "      <td>1300.000000</td>\n",
       "      <td>1.000000</td>\n",
       "      <td>1.000000</td>\n",
       "      <td>1872.000000</td>\n",
       "      <td>1950.000000</td>\n",
       "      <td>0.000000</td>\n",
       "      <td>0.000000</td>\n",
       "      <td>0.000000</td>\n",
       "      <td>...</td>\n",
       "      <td>0.000000</td>\n",
       "      <td>0.000000</td>\n",
       "      <td>0.000000</td>\n",
       "      <td>0.000000</td>\n",
       "      <td>0.000000</td>\n",
       "      <td>0.000000</td>\n",
       "      <td>0.000000</td>\n",
       "      <td>1.000000</td>\n",
       "      <td>2006.000000</td>\n",
       "      <td>10.460271</td>\n",
       "    </tr>\n",
       "    <tr>\n",
       "      <th>25%</th>\n",
       "      <td>20.000000</td>\n",
       "      <td>59.000000</td>\n",
       "      <td>7544.500000</td>\n",
       "      <td>5.000000</td>\n",
       "      <td>5.000000</td>\n",
       "      <td>1954.000000</td>\n",
       "      <td>1967.000000</td>\n",
       "      <td>0.000000</td>\n",
       "      <td>0.000000</td>\n",
       "      <td>0.000000</td>\n",
       "      <td>...</td>\n",
       "      <td>0.000000</td>\n",
       "      <td>0.000000</td>\n",
       "      <td>0.000000</td>\n",
       "      <td>0.000000</td>\n",
       "      <td>0.000000</td>\n",
       "      <td>0.000000</td>\n",
       "      <td>0.000000</td>\n",
       "      <td>5.000000</td>\n",
       "      <td>2007.000000</td>\n",
       "      <td>11.774720</td>\n",
       "    </tr>\n",
       "    <tr>\n",
       "      <th>50%</th>\n",
       "      <td>50.000000</td>\n",
       "      <td>69.000000</td>\n",
       "      <td>9475.000000</td>\n",
       "      <td>6.000000</td>\n",
       "      <td>5.000000</td>\n",
       "      <td>1972.500000</td>\n",
       "      <td>1994.000000</td>\n",
       "      <td>0.000000</td>\n",
       "      <td>382.000000</td>\n",
       "      <td>0.000000</td>\n",
       "      <td>...</td>\n",
       "      <td>0.000000</td>\n",
       "      <td>24.500000</td>\n",
       "      <td>0.000000</td>\n",
       "      <td>0.000000</td>\n",
       "      <td>0.000000</td>\n",
       "      <td>0.000000</td>\n",
       "      <td>0.000000</td>\n",
       "      <td>6.000000</td>\n",
       "      <td>2008.000000</td>\n",
       "      <td>12.001512</td>\n",
       "    </tr>\n",
       "    <tr>\n",
       "      <th>75%</th>\n",
       "      <td>70.000000</td>\n",
       "      <td>80.000000</td>\n",
       "      <td>11600.000000</td>\n",
       "      <td>7.000000</td>\n",
       "      <td>6.000000</td>\n",
       "      <td>2000.000000</td>\n",
       "      <td>2004.000000</td>\n",
       "      <td>164.750000</td>\n",
       "      <td>711.000000</td>\n",
       "      <td>0.000000</td>\n",
       "      <td>...</td>\n",
       "      <td>168.000000</td>\n",
       "      <td>68.000000</td>\n",
       "      <td>0.000000</td>\n",
       "      <td>0.000000</td>\n",
       "      <td>0.000000</td>\n",
       "      <td>0.000000</td>\n",
       "      <td>0.000000</td>\n",
       "      <td>8.000000</td>\n",
       "      <td>2009.000000</td>\n",
       "      <td>12.273736</td>\n",
       "    </tr>\n",
       "    <tr>\n",
       "      <th>max</th>\n",
       "      <td>190.000000</td>\n",
       "      <td>313.000000</td>\n",
       "      <td>215245.000000</td>\n",
       "      <td>10.000000</td>\n",
       "      <td>9.000000</td>\n",
       "      <td>2010.000000</td>\n",
       "      <td>2010.000000</td>\n",
       "      <td>1600.000000</td>\n",
       "      <td>2188.000000</td>\n",
       "      <td>1474.000000</td>\n",
       "      <td>...</td>\n",
       "      <td>857.000000</td>\n",
       "      <td>547.000000</td>\n",
       "      <td>552.000000</td>\n",
       "      <td>508.000000</td>\n",
       "      <td>480.000000</td>\n",
       "      <td>738.000000</td>\n",
       "      <td>15500.000000</td>\n",
       "      <td>12.000000</td>\n",
       "      <td>2010.000000</td>\n",
       "      <td>13.534474</td>\n",
       "    </tr>\n",
       "  </tbody>\n",
       "</table>\n",
       "<p>8 rows × 37 columns</p>\n",
       "</div>"
      ],
      "text/plain": [
       "        MSSubClass  LotFrontage        LotArea  OverallQual  OverallCond  \\\n",
       "count  1458.000000  1199.000000    1458.000000  1458.000000  1458.000000   \n",
       "mean     56.893004    69.797331   10459.936900     6.093964     5.576132   \n",
       "std      42.329437    23.203458    9859.198156     1.376369     1.113359   \n",
       "min      20.000000    21.000000    1300.000000     1.000000     1.000000   \n",
       "25%      20.000000    59.000000    7544.500000     5.000000     5.000000   \n",
       "50%      50.000000    69.000000    9475.000000     6.000000     5.000000   \n",
       "75%      70.000000    80.000000   11600.000000     7.000000     6.000000   \n",
       "max     190.000000   313.000000  215245.000000    10.000000     9.000000   \n",
       "\n",
       "         YearBuilt  YearRemodAdd   MasVnrArea   BsmtFinSF1   BsmtFinSF2  ...  \\\n",
       "count  1458.000000   1458.000000  1450.000000  1458.000000  1458.000000  ...   \n",
       "mean   1971.218107   1984.834019   102.753793   438.827160    46.613169  ...   \n",
       "std      30.193754     20.641760   179.442156   432.969094   161.420729  ...   \n",
       "min    1872.000000   1950.000000     0.000000     0.000000     0.000000  ...   \n",
       "25%    1954.000000   1967.000000     0.000000     0.000000     0.000000  ...   \n",
       "50%    1972.500000   1994.000000     0.000000   382.000000     0.000000  ...   \n",
       "75%    2000.000000   2004.000000   164.750000   711.000000     0.000000  ...   \n",
       "max    2010.000000   2010.000000  1600.000000  2188.000000  1474.000000  ...   \n",
       "\n",
       "        WoodDeckSF  OpenPorchSF  EnclosedPorch    3SsnPorch  ScreenPorch  \\\n",
       "count  1458.000000  1458.000000    1458.000000  1458.000000  1458.000000   \n",
       "mean     94.084362    46.245542      21.984225     3.414266    15.081619   \n",
       "std     125.350021    65.312932      61.155666    29.337173    55.792877   \n",
       "min       0.000000     0.000000       0.000000     0.000000     0.000000   \n",
       "25%       0.000000     0.000000       0.000000     0.000000     0.000000   \n",
       "50%       0.000000    24.500000       0.000000     0.000000     0.000000   \n",
       "75%     168.000000    68.000000       0.000000     0.000000     0.000000   \n",
       "max     857.000000   547.000000     552.000000   508.000000   480.000000   \n",
       "\n",
       "          PoolArea       MiscVal       MoSold       YrSold    SalePrice  \n",
       "count  1458.000000   1458.000000  1458.000000  1458.000000  1458.000000  \n",
       "mean      2.433471     43.548697     6.323045  2007.816187    12.024015  \n",
       "std      38.209947    496.460799     2.700167     1.328826     0.399713  \n",
       "min       0.000000      0.000000     1.000000  2006.000000    10.460271  \n",
       "25%       0.000000      0.000000     5.000000  2007.000000    11.774720  \n",
       "50%       0.000000      0.000000     6.000000  2008.000000    12.001512  \n",
       "75%       0.000000      0.000000     8.000000  2009.000000    12.273736  \n",
       "max     738.000000  15500.000000    12.000000  2010.000000    13.534474  \n",
       "\n",
       "[8 rows x 37 columns]"
      ]
     },
     "execution_count": 18,
     "metadata": {},
     "output_type": "execute_result"
    }
   ],
   "source": [
    "# here we are printing summary of train dataset\n",
    "Train.describe()"
   ]
  },
  {
   "cell_type": "code",
   "execution_count": 19,
   "metadata": {
    "execution": {
     "iopub.execute_input": "2020-08-27T23:24:31.752876Z",
     "iopub.status.busy": "2020-08-27T23:24:31.750218Z",
     "iopub.status.idle": "2020-08-27T23:24:31.861091Z",
     "shell.execute_reply": "2020-08-27T23:24:31.860382Z"
    },
    "papermill": {
     "duration": 0.150219,
     "end_time": "2020-08-27T23:24:31.861242",
     "exception": false,
     "start_time": "2020-08-27T23:24:31.711023",
     "status": "completed"
    },
    "tags": []
   },
   "outputs": [
    {
     "data": {
      "text/html": [
       "<div>\n",
       "<style scoped>\n",
       "    .dataframe tbody tr th:only-of-type {\n",
       "        vertical-align: middle;\n",
       "    }\n",
       "\n",
       "    .dataframe tbody tr th {\n",
       "        vertical-align: top;\n",
       "    }\n",
       "\n",
       "    .dataframe thead th {\n",
       "        text-align: right;\n",
       "    }\n",
       "</style>\n",
       "<table border=\"1\" class=\"dataframe\">\n",
       "  <thead>\n",
       "    <tr style=\"text-align: right;\">\n",
       "      <th></th>\n",
       "      <th>MSSubClass</th>\n",
       "      <th>LotFrontage</th>\n",
       "      <th>LotArea</th>\n",
       "      <th>OverallQual</th>\n",
       "      <th>OverallCond</th>\n",
       "      <th>YearBuilt</th>\n",
       "      <th>YearRemodAdd</th>\n",
       "      <th>MasVnrArea</th>\n",
       "      <th>BsmtFinSF1</th>\n",
       "      <th>BsmtFinSF2</th>\n",
       "      <th>...</th>\n",
       "      <th>GarageArea</th>\n",
       "      <th>WoodDeckSF</th>\n",
       "      <th>OpenPorchSF</th>\n",
       "      <th>EnclosedPorch</th>\n",
       "      <th>3SsnPorch</th>\n",
       "      <th>ScreenPorch</th>\n",
       "      <th>PoolArea</th>\n",
       "      <th>MiscVal</th>\n",
       "      <th>MoSold</th>\n",
       "      <th>YrSold</th>\n",
       "    </tr>\n",
       "  </thead>\n",
       "  <tbody>\n",
       "    <tr>\n",
       "      <th>count</th>\n",
       "      <td>1459.000000</td>\n",
       "      <td>1232.000000</td>\n",
       "      <td>1459.000000</td>\n",
       "      <td>1459.000000</td>\n",
       "      <td>1459.000000</td>\n",
       "      <td>1459.000000</td>\n",
       "      <td>1459.000000</td>\n",
       "      <td>1444.000000</td>\n",
       "      <td>1458.000000</td>\n",
       "      <td>1458.000000</td>\n",
       "      <td>...</td>\n",
       "      <td>1458.000000</td>\n",
       "      <td>1459.000000</td>\n",
       "      <td>1459.000000</td>\n",
       "      <td>1459.000000</td>\n",
       "      <td>1459.000000</td>\n",
       "      <td>1459.000000</td>\n",
       "      <td>1459.000000</td>\n",
       "      <td>1459.000000</td>\n",
       "      <td>1459.000000</td>\n",
       "      <td>1459.000000</td>\n",
       "    </tr>\n",
       "    <tr>\n",
       "      <th>mean</th>\n",
       "      <td>57.378341</td>\n",
       "      <td>68.580357</td>\n",
       "      <td>9819.161069</td>\n",
       "      <td>6.078821</td>\n",
       "      <td>5.553804</td>\n",
       "      <td>1971.357779</td>\n",
       "      <td>1983.662783</td>\n",
       "      <td>100.709141</td>\n",
       "      <td>439.203704</td>\n",
       "      <td>52.619342</td>\n",
       "      <td>...</td>\n",
       "      <td>472.768861</td>\n",
       "      <td>93.174777</td>\n",
       "      <td>48.313914</td>\n",
       "      <td>24.243317</td>\n",
       "      <td>1.794380</td>\n",
       "      <td>17.064428</td>\n",
       "      <td>1.744345</td>\n",
       "      <td>58.167923</td>\n",
       "      <td>6.104181</td>\n",
       "      <td>2007.769705</td>\n",
       "    </tr>\n",
       "    <tr>\n",
       "      <th>std</th>\n",
       "      <td>42.746880</td>\n",
       "      <td>22.376841</td>\n",
       "      <td>4955.517327</td>\n",
       "      <td>1.436812</td>\n",
       "      <td>1.113740</td>\n",
       "      <td>30.390071</td>\n",
       "      <td>21.130467</td>\n",
       "      <td>177.625900</td>\n",
       "      <td>455.268042</td>\n",
       "      <td>176.753926</td>\n",
       "      <td>...</td>\n",
       "      <td>217.048611</td>\n",
       "      <td>127.744882</td>\n",
       "      <td>68.883364</td>\n",
       "      <td>67.227765</td>\n",
       "      <td>20.207842</td>\n",
       "      <td>56.609763</td>\n",
       "      <td>30.491646</td>\n",
       "      <td>630.806978</td>\n",
       "      <td>2.722432</td>\n",
       "      <td>1.301740</td>\n",
       "    </tr>\n",
       "    <tr>\n",
       "      <th>min</th>\n",
       "      <td>20.000000</td>\n",
       "      <td>21.000000</td>\n",
       "      <td>1470.000000</td>\n",
       "      <td>1.000000</td>\n",
       "      <td>1.000000</td>\n",
       "      <td>1879.000000</td>\n",
       "      <td>1950.000000</td>\n",
       "      <td>0.000000</td>\n",
       "      <td>0.000000</td>\n",
       "      <td>0.000000</td>\n",
       "      <td>...</td>\n",
       "      <td>0.000000</td>\n",
       "      <td>0.000000</td>\n",
       "      <td>0.000000</td>\n",
       "      <td>0.000000</td>\n",
       "      <td>0.000000</td>\n",
       "      <td>0.000000</td>\n",
       "      <td>0.000000</td>\n",
       "      <td>0.000000</td>\n",
       "      <td>1.000000</td>\n",
       "      <td>2006.000000</td>\n",
       "    </tr>\n",
       "    <tr>\n",
       "      <th>25%</th>\n",
       "      <td>20.000000</td>\n",
       "      <td>58.000000</td>\n",
       "      <td>7391.000000</td>\n",
       "      <td>5.000000</td>\n",
       "      <td>5.000000</td>\n",
       "      <td>1953.000000</td>\n",
       "      <td>1963.000000</td>\n",
       "      <td>0.000000</td>\n",
       "      <td>0.000000</td>\n",
       "      <td>0.000000</td>\n",
       "      <td>...</td>\n",
       "      <td>318.000000</td>\n",
       "      <td>0.000000</td>\n",
       "      <td>0.000000</td>\n",
       "      <td>0.000000</td>\n",
       "      <td>0.000000</td>\n",
       "      <td>0.000000</td>\n",
       "      <td>0.000000</td>\n",
       "      <td>0.000000</td>\n",
       "      <td>4.000000</td>\n",
       "      <td>2007.000000</td>\n",
       "    </tr>\n",
       "    <tr>\n",
       "      <th>50%</th>\n",
       "      <td>50.000000</td>\n",
       "      <td>67.000000</td>\n",
       "      <td>9399.000000</td>\n",
       "      <td>6.000000</td>\n",
       "      <td>5.000000</td>\n",
       "      <td>1973.000000</td>\n",
       "      <td>1992.000000</td>\n",
       "      <td>0.000000</td>\n",
       "      <td>350.500000</td>\n",
       "      <td>0.000000</td>\n",
       "      <td>...</td>\n",
       "      <td>480.000000</td>\n",
       "      <td>0.000000</td>\n",
       "      <td>28.000000</td>\n",
       "      <td>0.000000</td>\n",
       "      <td>0.000000</td>\n",
       "      <td>0.000000</td>\n",
       "      <td>0.000000</td>\n",
       "      <td>0.000000</td>\n",
       "      <td>6.000000</td>\n",
       "      <td>2008.000000</td>\n",
       "    </tr>\n",
       "    <tr>\n",
       "      <th>75%</th>\n",
       "      <td>70.000000</td>\n",
       "      <td>80.000000</td>\n",
       "      <td>11517.500000</td>\n",
       "      <td>7.000000</td>\n",
       "      <td>6.000000</td>\n",
       "      <td>2001.000000</td>\n",
       "      <td>2004.000000</td>\n",
       "      <td>164.000000</td>\n",
       "      <td>753.500000</td>\n",
       "      <td>0.000000</td>\n",
       "      <td>...</td>\n",
       "      <td>576.000000</td>\n",
       "      <td>168.000000</td>\n",
       "      <td>72.000000</td>\n",
       "      <td>0.000000</td>\n",
       "      <td>0.000000</td>\n",
       "      <td>0.000000</td>\n",
       "      <td>0.000000</td>\n",
       "      <td>0.000000</td>\n",
       "      <td>8.000000</td>\n",
       "      <td>2009.000000</td>\n",
       "    </tr>\n",
       "    <tr>\n",
       "      <th>max</th>\n",
       "      <td>190.000000</td>\n",
       "      <td>200.000000</td>\n",
       "      <td>56600.000000</td>\n",
       "      <td>10.000000</td>\n",
       "      <td>9.000000</td>\n",
       "      <td>2010.000000</td>\n",
       "      <td>2010.000000</td>\n",
       "      <td>1290.000000</td>\n",
       "      <td>4010.000000</td>\n",
       "      <td>1526.000000</td>\n",
       "      <td>...</td>\n",
       "      <td>1488.000000</td>\n",
       "      <td>1424.000000</td>\n",
       "      <td>742.000000</td>\n",
       "      <td>1012.000000</td>\n",
       "      <td>360.000000</td>\n",
       "      <td>576.000000</td>\n",
       "      <td>800.000000</td>\n",
       "      <td>17000.000000</td>\n",
       "      <td>12.000000</td>\n",
       "      <td>2010.000000</td>\n",
       "    </tr>\n",
       "  </tbody>\n",
       "</table>\n",
       "<p>8 rows × 36 columns</p>\n",
       "</div>"
      ],
      "text/plain": [
       "        MSSubClass  LotFrontage       LotArea  OverallQual  OverallCond  \\\n",
       "count  1459.000000  1232.000000   1459.000000  1459.000000  1459.000000   \n",
       "mean     57.378341    68.580357   9819.161069     6.078821     5.553804   \n",
       "std      42.746880    22.376841   4955.517327     1.436812     1.113740   \n",
       "min      20.000000    21.000000   1470.000000     1.000000     1.000000   \n",
       "25%      20.000000    58.000000   7391.000000     5.000000     5.000000   \n",
       "50%      50.000000    67.000000   9399.000000     6.000000     5.000000   \n",
       "75%      70.000000    80.000000  11517.500000     7.000000     6.000000   \n",
       "max     190.000000   200.000000  56600.000000    10.000000     9.000000   \n",
       "\n",
       "         YearBuilt  YearRemodAdd   MasVnrArea   BsmtFinSF1   BsmtFinSF2  ...  \\\n",
       "count  1459.000000   1459.000000  1444.000000  1458.000000  1458.000000  ...   \n",
       "mean   1971.357779   1983.662783   100.709141   439.203704    52.619342  ...   \n",
       "std      30.390071     21.130467   177.625900   455.268042   176.753926  ...   \n",
       "min    1879.000000   1950.000000     0.000000     0.000000     0.000000  ...   \n",
       "25%    1953.000000   1963.000000     0.000000     0.000000     0.000000  ...   \n",
       "50%    1973.000000   1992.000000     0.000000   350.500000     0.000000  ...   \n",
       "75%    2001.000000   2004.000000   164.000000   753.500000     0.000000  ...   \n",
       "max    2010.000000   2010.000000  1290.000000  4010.000000  1526.000000  ...   \n",
       "\n",
       "        GarageArea   WoodDeckSF  OpenPorchSF  EnclosedPorch    3SsnPorch  \\\n",
       "count  1458.000000  1459.000000  1459.000000    1459.000000  1459.000000   \n",
       "mean    472.768861    93.174777    48.313914      24.243317     1.794380   \n",
       "std     217.048611   127.744882    68.883364      67.227765    20.207842   \n",
       "min       0.000000     0.000000     0.000000       0.000000     0.000000   \n",
       "25%     318.000000     0.000000     0.000000       0.000000     0.000000   \n",
       "50%     480.000000     0.000000    28.000000       0.000000     0.000000   \n",
       "75%     576.000000   168.000000    72.000000       0.000000     0.000000   \n",
       "max    1488.000000  1424.000000   742.000000    1012.000000   360.000000   \n",
       "\n",
       "       ScreenPorch     PoolArea       MiscVal       MoSold       YrSold  \n",
       "count  1459.000000  1459.000000   1459.000000  1459.000000  1459.000000  \n",
       "mean     17.064428     1.744345     58.167923     6.104181  2007.769705  \n",
       "std      56.609763    30.491646    630.806978     2.722432     1.301740  \n",
       "min       0.000000     0.000000      0.000000     1.000000  2006.000000  \n",
       "25%       0.000000     0.000000      0.000000     4.000000  2007.000000  \n",
       "50%       0.000000     0.000000      0.000000     6.000000  2008.000000  \n",
       "75%       0.000000     0.000000      0.000000     8.000000  2009.000000  \n",
       "max     576.000000   800.000000  17000.000000    12.000000  2010.000000  \n",
       "\n",
       "[8 rows x 36 columns]"
      ]
     },
     "execution_count": 19,
     "metadata": {},
     "output_type": "execute_result"
    }
   ],
   "source": [
    "# here we are printing summary of test dataset\n",
    "Test.describe()"
   ]
  },
  {
   "cell_type": "markdown",
   "execution_count": null,
   "metadata": {
    "papermill": {
     "duration": 0.03274,
     "end_time": "2020-08-27T23:24:31.926775",
     "exception": false,
     "start_time": "2020-08-27T23:24:31.894035",
     "status": "completed"
    },
    "tags": []
   },
   "source": [
    "# Data pre-processing"
   ]
  },
  {
   "cell_type": "code",
   "execution_count": 20,
   "metadata": {
    "execution": {
     "iopub.execute_input": "2020-08-27T23:24:32.003086Z",
     "iopub.status.busy": "2020-08-27T23:24:32.002320Z",
     "iopub.status.idle": "2020-08-27T23:24:32.517788Z",
     "shell.execute_reply": "2020-08-27T23:24:32.517037Z"
    },
    "papermill": {
     "duration": 0.559025,
     "end_time": "2020-08-27T23:24:32.517911",
     "exception": false,
     "start_time": "2020-08-27T23:24:31.958886",
     "status": "completed"
    },
    "tags": []
   },
   "outputs": [
    {
     "data": {
      "text/plain": [
       "<matplotlib.axes._subplots.AxesSubplot at 0x7f50cf489850>"
      ]
     },
     "execution_count": 20,
     "metadata": {},
     "output_type": "execute_result"
    },
    {
     "data": {
      "image/png": "[encoded data removed]",
      "text/plain": [
       "<Figure size 432x288 with 2 Axes>"
      ]
     },
     "metadata": {
      "needs_background": "light"
     },
     "output_type": "display_data"
    }
   ],
   "source": [
    "# here we are visualising null value in our train dataset\n",
    "sns.heatmap(Train.isnull())"
   ]
  },
  {
   "cell_type": "code",
   "execution_count": 21,
   "metadata": {
    "execution": {
     "iopub.execute_input": "2020-08-27T23:24:32.594907Z",
     "iopub.status.busy": "2020-08-27T23:24:32.594096Z",
     "iopub.status.idle": "2020-08-27T23:24:33.099784Z",
     "shell.execute_reply": "2020-08-27T23:24:33.099026Z"
    },
    "papermill": {
     "duration": 0.549503,
     "end_time": "2020-08-27T23:24:33.099907",
     "exception": false,
     "start_time": "2020-08-27T23:24:32.550404",
     "status": "completed"
    },
    "tags": []
   },
   "outputs": [
    {
     "data": {
      "text/plain": [
       "<matplotlib.axes._subplots.AxesSubplot at 0x7f50cc240210>"
      ]
     },
     "execution_count": 21,
     "metadata": {},
     "output_type": "execute_result"
    },
    {
     "data": {
      "image/png": "[encoded data removed]",
      "text/plain": [
       "<Figure size 432x288 with 2 Axes>"
      ]
     },
     "metadata": {
      "needs_background": "light"
     },
     "output_type": "display_data"
    }
   ],
   "source": [
    "# here we are visualising null value in our test dataset\n",
    "sns.heatmap(Test.isnull())"
   ]
  },
  {
   "cell_type": "code",
   "execution_count": 22,
   "metadata": {
    "execution": {
     "iopub.execute_input": "2020-08-27T23:24:33.184914Z",
     "iopub.status.busy": "2020-08-27T23:24:33.181925Z",
     "iopub.status.idle": "2020-08-27T23:24:33.202830Z",
     "shell.execute_reply": "2020-08-27T23:24:33.202208Z"
    },
    "papermill": {
     "duration": 0.064842,
     "end_time": "2020-08-27T23:24:33.202961",
     "exception": false,
     "start_time": "2020-08-27T23:24:33.138119",
     "status": "completed"
    },
    "tags": []
   },
   "outputs": [],
   "source": [
    "# here we are concating our train and test dataset\n",
    "ntrain = Train.shape[0]\n",
    "ntest = Test.shape[0]\n",
    "y_train = Train.SalePrice.values\n",
    "train_test_data = pd.concat((Train, Test)).reset_index(drop=True)\n"
   ]
  },
  {
   "cell_type": "code",
   "execution_count": 23,
   "metadata": {
    "execution": {
     "iopub.execute_input": "2020-08-27T23:24:33.275775Z",
     "iopub.status.busy": "2020-08-27T23:24:33.274981Z",
     "iopub.status.idle": "2020-08-27T23:24:33.287013Z",
     "shell.execute_reply": "2020-08-27T23:24:33.286227Z"
    },
    "papermill": {
     "duration": 0.050966,
     "end_time": "2020-08-27T23:24:33.287137",
     "exception": false,
     "start_time": "2020-08-27T23:24:33.236171",
     "status": "completed"
    },
    "tags": []
   },
   "outputs": [],
   "source": [
    "# here we are droping salesprices columns from our concat dataset\n",
    "train_test_data.drop([\"SalePrice\"],axis=1,inplace=True)\n"
   ]
  },
  {
   "cell_type": "code",
   "execution_count": 24,
   "metadata": {
    "execution": {
     "iopub.execute_input": "2020-08-27T23:24:33.359822Z",
     "iopub.status.busy": "2020-08-27T23:24:33.358824Z",
     "iopub.status.idle": "2020-08-27T23:24:33.362317Z",
     "shell.execute_reply": "2020-08-27T23:24:33.362886Z"
    },
    "papermill": {
     "duration": 0.042248,
     "end_time": "2020-08-27T23:24:33.363036",
     "exception": false,
     "start_time": "2020-08-27T23:24:33.320788",
     "status": "completed"
    },
    "tags": []
   },
   "outputs": [
    {
     "name": "stdout",
     "output_type": "stream",
     "text": [
      "train_test_data size is: (2917, 79)\n"
     ]
    }
   ],
   "source": [
    "# now we are printing shape of our concat dataset\n",
    "print(\"train_test_data size is: {}\".format(train_test_data.shape))"
   ]
  },
  {
   "cell_type": "code",
   "execution_count": 25,
   "metadata": {
    "execution": {
     "iopub.execute_input": "2020-08-27T23:24:33.449172Z",
     "iopub.status.busy": "2020-08-27T23:24:33.448284Z",
     "iopub.status.idle": "2020-08-27T23:24:33.462966Z",
     "shell.execute_reply": "2020-08-27T23:24:33.462231Z"
    },
    "papermill": {
     "duration": 0.066799,
     "end_time": "2020-08-27T23:24:33.463087",
     "exception": false,
     "start_time": "2020-08-27T23:24:33.396288",
     "status": "completed"
    },
    "tags": []
   },
   "outputs": [
    {
     "data": {
      "text/html": [
       "<div>\n",
       "<style scoped>\n",
       "    .dataframe tbody tr th:only-of-type {\n",
       "        vertical-align: middle;\n",
       "    }\n",
       "\n",
       "    .dataframe tbody tr th {\n",
       "        vertical-align: top;\n",
       "    }\n",
       "\n",
       "    .dataframe thead th {\n",
       "        text-align: right;\n",
       "    }\n",
       "</style>\n",
       "<table border=\"1\" class=\"dataframe\">\n",
       "  <thead>\n",
       "    <tr style=\"text-align: right;\">\n",
       "      <th></th>\n",
       "      <th>Null counts</th>\n",
       "    </tr>\n",
       "    <tr>\n",
       "      <th>Feature</th>\n",
       "      <th></th>\n",
       "    </tr>\n",
       "  </thead>\n",
       "  <tbody>\n",
       "    <tr>\n",
       "      <th>PoolQC</th>\n",
       "      <td>2908</td>\n",
       "    </tr>\n",
       "    <tr>\n",
       "      <th>MiscFeature</th>\n",
       "      <td>2812</td>\n",
       "    </tr>\n",
       "    <tr>\n",
       "      <th>Alley</th>\n",
       "      <td>2719</td>\n",
       "    </tr>\n",
       "    <tr>\n",
       "      <th>Fence</th>\n",
       "      <td>2346</td>\n",
       "    </tr>\n",
       "    <tr>\n",
       "      <th>FireplaceQu</th>\n",
       "      <td>1420</td>\n",
       "    </tr>\n",
       "    <tr>\n",
       "      <th>LotFrontage</th>\n",
       "      <td>486</td>\n",
       "    </tr>\n",
       "    <tr>\n",
       "      <th>GarageCond</th>\n",
       "      <td>159</td>\n",
       "    </tr>\n",
       "    <tr>\n",
       "      <th>GarageQual</th>\n",
       "      <td>159</td>\n",
       "    </tr>\n",
       "    <tr>\n",
       "      <th>GarageYrBlt</th>\n",
       "      <td>159</td>\n",
       "    </tr>\n",
       "    <tr>\n",
       "      <th>GarageFinish</th>\n",
       "      <td>159</td>\n",
       "    </tr>\n",
       "    <tr>\n",
       "      <th>GarageType</th>\n",
       "      <td>157</td>\n",
       "    </tr>\n",
       "    <tr>\n",
       "      <th>BsmtCond</th>\n",
       "      <td>82</td>\n",
       "    </tr>\n",
       "    <tr>\n",
       "      <th>BsmtExposure</th>\n",
       "      <td>82</td>\n",
       "    </tr>\n",
       "    <tr>\n",
       "      <th>BsmtQual</th>\n",
       "      <td>81</td>\n",
       "    </tr>\n",
       "    <tr>\n",
       "      <th>BsmtFinType2</th>\n",
       "      <td>80</td>\n",
       "    </tr>\n",
       "    <tr>\n",
       "      <th>BsmtFinType1</th>\n",
       "      <td>79</td>\n",
       "    </tr>\n",
       "    <tr>\n",
       "      <th>MasVnrType</th>\n",
       "      <td>24</td>\n",
       "    </tr>\n",
       "    <tr>\n",
       "      <th>MasVnrArea</th>\n",
       "      <td>23</td>\n",
       "    </tr>\n",
       "    <tr>\n",
       "      <th>MSZoning</th>\n",
       "      <td>4</td>\n",
       "    </tr>\n",
       "    <tr>\n",
       "      <th>BsmtHalfBath</th>\n",
       "      <td>2</td>\n",
       "    </tr>\n",
       "    <tr>\n",
       "      <th>Utilities</th>\n",
       "      <td>2</td>\n",
       "    </tr>\n",
       "    <tr>\n",
       "      <th>Functional</th>\n",
       "      <td>2</td>\n",
       "    </tr>\n",
       "    <tr>\n",
       "      <th>BsmtFullBath</th>\n",
       "      <td>2</td>\n",
       "    </tr>\n",
       "    <tr>\n",
       "      <th>BsmtFinSF2</th>\n",
       "      <td>1</td>\n",
       "    </tr>\n",
       "    <tr>\n",
       "      <th>BsmtFinSF1</th>\n",
       "      <td>1</td>\n",
       "    </tr>\n",
       "  </tbody>\n",
       "</table>\n",
       "</div>"
      ],
      "text/plain": [
       "              Null counts\n",
       "Feature                  \n",
       "PoolQC               2908\n",
       "MiscFeature          2812\n",
       "Alley                2719\n",
       "Fence                2346\n",
       "FireplaceQu          1420\n",
       "LotFrontage           486\n",
       "GarageCond            159\n",
       "GarageQual            159\n",
       "GarageYrBlt           159\n",
       "GarageFinish          159\n",
       "GarageType            157\n",
       "BsmtCond               82\n",
       "BsmtExposure           82\n",
       "BsmtQual               81\n",
       "BsmtFinType2           80\n",
       "BsmtFinType1           79\n",
       "MasVnrType             24\n",
       "MasVnrArea             23\n",
       "MSZoning                4\n",
       "BsmtHalfBath            2\n",
       "Utilities               2\n",
       "Functional              2\n",
       "BsmtFullBath            2\n",
       "BsmtFinSF2              1\n",
       "BsmtFinSF1              1"
      ]
     },
     "execution_count": 25,
     "metadata": {},
     "output_type": "execute_result"
    }
   ],
   "source": [
    "# here we are counting the null value of each column\n",
    "null = pd.DataFrame(train_test_data.isnull().sum().sort_values(ascending=False)[:25])\n",
    "null.columns = [\"Null counts\"]\n",
    "null.index.name = \"Feature\"\n",
    "null"
   ]
  },
  {
   "cell_type": "code",
   "execution_count": 26,
   "metadata": {
    "execution": {
     "iopub.execute_input": "2020-08-27T23:24:33.551548Z",
     "iopub.status.busy": "2020-08-27T23:24:33.550410Z",
     "iopub.status.idle": "2020-08-27T23:24:33.565745Z",
     "shell.execute_reply": "2020-08-27T23:24:33.566301Z"
    },
    "papermill": {
     "duration": 0.069467,
     "end_time": "2020-08-27T23:24:33.566478",
     "exception": false,
     "start_time": "2020-08-27T23:24:33.497011",
     "status": "completed"
    },
    "tags": []
   },
   "outputs": [
    {
     "data": {
      "text/html": [
       "<div>\n",
       "<style scoped>\n",
       "    .dataframe tbody tr th:only-of-type {\n",
       "        vertical-align: middle;\n",
       "    }\n",
       "\n",
       "    .dataframe tbody tr th {\n",
       "        vertical-align: top;\n",
       "    }\n",
       "\n",
       "    .dataframe thead th {\n",
       "        text-align: right;\n",
       "    }\n",
       "</style>\n",
       "<table border=\"1\" class=\"dataframe\">\n",
       "  <thead>\n",
       "    <tr style=\"text-align: right;\">\n",
       "      <th></th>\n",
       "      <th>Missing Ratio</th>\n",
       "    </tr>\n",
       "  </thead>\n",
       "  <tbody>\n",
       "    <tr>\n",
       "      <th>PoolQC</th>\n",
       "      <td>99.691464</td>\n",
       "    </tr>\n",
       "    <tr>\n",
       "      <th>MiscFeature</th>\n",
       "      <td>96.400411</td>\n",
       "    </tr>\n",
       "    <tr>\n",
       "      <th>Alley</th>\n",
       "      <td>93.212204</td>\n",
       "    </tr>\n",
       "    <tr>\n",
       "      <th>Fence</th>\n",
       "      <td>80.425094</td>\n",
       "    </tr>\n",
       "    <tr>\n",
       "      <th>FireplaceQu</th>\n",
       "      <td>48.680151</td>\n",
       "    </tr>\n",
       "    <tr>\n",
       "      <th>LotFrontage</th>\n",
       "      <td>16.660953</td>\n",
       "    </tr>\n",
       "    <tr>\n",
       "      <th>GarageFinish</th>\n",
       "      <td>5.450806</td>\n",
       "    </tr>\n",
       "    <tr>\n",
       "      <th>GarageYrBlt</th>\n",
       "      <td>5.450806</td>\n",
       "    </tr>\n",
       "    <tr>\n",
       "      <th>GarageQual</th>\n",
       "      <td>5.450806</td>\n",
       "    </tr>\n",
       "    <tr>\n",
       "      <th>GarageCond</th>\n",
       "      <td>5.450806</td>\n",
       "    </tr>\n",
       "    <tr>\n",
       "      <th>GarageType</th>\n",
       "      <td>5.382242</td>\n",
       "    </tr>\n",
       "    <tr>\n",
       "      <th>BsmtExposure</th>\n",
       "      <td>2.811107</td>\n",
       "    </tr>\n",
       "    <tr>\n",
       "      <th>BsmtCond</th>\n",
       "      <td>2.811107</td>\n",
       "    </tr>\n",
       "    <tr>\n",
       "      <th>BsmtQual</th>\n",
       "      <td>2.776826</td>\n",
       "    </tr>\n",
       "    <tr>\n",
       "      <th>BsmtFinType2</th>\n",
       "      <td>2.742544</td>\n",
       "    </tr>\n",
       "    <tr>\n",
       "      <th>BsmtFinType1</th>\n",
       "      <td>2.708262</td>\n",
       "    </tr>\n",
       "    <tr>\n",
       "      <th>MasVnrType</th>\n",
       "      <td>0.822763</td>\n",
       "    </tr>\n",
       "    <tr>\n",
       "      <th>MasVnrArea</th>\n",
       "      <td>0.788481</td>\n",
       "    </tr>\n",
       "    <tr>\n",
       "      <th>MSZoning</th>\n",
       "      <td>0.137127</td>\n",
       "    </tr>\n",
       "    <tr>\n",
       "      <th>BsmtFullBath</th>\n",
       "      <td>0.068564</td>\n",
       "    </tr>\n",
       "  </tbody>\n",
       "</table>\n",
       "</div>"
      ],
      "text/plain": [
       "              Missing Ratio\n",
       "PoolQC            99.691464\n",
       "MiscFeature       96.400411\n",
       "Alley             93.212204\n",
       "Fence             80.425094\n",
       "FireplaceQu       48.680151\n",
       "LotFrontage       16.660953\n",
       "GarageFinish       5.450806\n",
       "GarageYrBlt        5.450806\n",
       "GarageQual         5.450806\n",
       "GarageCond         5.450806\n",
       "GarageType         5.382242\n",
       "BsmtExposure       2.811107\n",
       "BsmtCond           2.811107\n",
       "BsmtQual           2.776826\n",
       "BsmtFinType2       2.742544\n",
       "BsmtFinType1       2.708262\n",
       "MasVnrType         0.822763\n",
       "MasVnrArea         0.788481\n",
       "MSZoning           0.137127\n",
       "BsmtFullBath       0.068564"
      ]
     },
     "execution_count": 26,
     "metadata": {},
     "output_type": "execute_result"
    }
   ],
   "source": [
    "# here we are counting null value in percent\n",
    "all_data_na = (train_test_data.isnull().sum() / len(train_test_data)) * 100\n",
    "all_data_na = all_data_na.drop(all_data_na[all_data_na == 0].index).sort_values(ascending=False)[:30]\n",
    "missing_data = pd.DataFrame({'Missing Ratio' :all_data_na})\n",
    "missing_data.head(20)"
   ]
  },
  {
   "cell_type": "code",
   "execution_count": 27,
   "metadata": {
    "execution": {
     "iopub.execute_input": "2020-08-27T23:24:33.649757Z",
     "iopub.status.busy": "2020-08-27T23:24:33.642767Z",
     "iopub.status.idle": "2020-08-27T23:24:34.026575Z",
     "shell.execute_reply": "2020-08-27T23:24:34.027296Z"
    },
    "papermill": {
     "duration": 0.426872,
     "end_time": "2020-08-27T23:24:34.027456",
     "exception": false,
     "start_time": "2020-08-27T23:24:33.600584",
     "status": "completed"
    },
    "tags": []
   },
   "outputs": [
    {
     "data": {
      "text/plain": [
       "Text(0.5, 1.0, 'Percent missing data by feature')"
      ]
     },
     "execution_count": 27,
     "metadata": {},
     "output_type": "execute_result"
    },
    {
     "data": {
      "image/png": "[encoded data removed]",
      "text/plain": [
       "<Figure size 720x432 with 1 Axes>"
      ]
     },
     "metadata": {},
     "output_type": "display_data"
    }
   ],
   "source": [
    "# here we are plotting the upper tabular form into graph\n",
    "plt.style.use(style='ggplot')\n",
    "plt.rcParams['figure.figsize'] = (10, 6)\n",
    "plt.xticks(rotation='90')\n",
    "sns.barplot(x=all_data_na.index, y=all_data_na)\n",
    "plt.xlabel('Features', fontsize=10)\n",
    "plt.ylabel('Percent of missing values', fontsize=10)\n",
    "plt.title('Percent missing data by feature', fontsize=13)"
   ]
  },
  {
   "cell_type": "code",
   "execution_count": 28,
   "metadata": {
    "execution": {
     "iopub.execute_input": "2020-08-27T23:24:34.103992Z",
     "iopub.status.busy": "2020-08-27T23:24:34.103133Z",
     "iopub.status.idle": "2020-08-27T23:24:34.875538Z",
     "shell.execute_reply": "2020-08-27T23:24:34.874880Z"
    },
    "papermill": {
     "duration": 0.813743,
     "end_time": "2020-08-27T23:24:34.875679",
     "exception": false,
     "start_time": "2020-08-27T23:24:34.061936",
     "status": "completed"
    },
    "tags": []
   },
   "outputs": [
    {
     "data": {
      "image/png": "[encoded data removed]",
      "text/plain": [
       "<Figure size 720x576 with 2 Axes>"
      ]
     },
     "metadata": {},
     "output_type": "display_data"
    }
   ],
   "source": [
    "# here we are making correlation graph to see how features are correlated with saleprice\n",
    "plt.figure(figsize=(10,8))\n",
    "corrMatrix=Train.corr()\n",
    "sns.heatmap(corrMatrix,vmax=0.9,square =True)\n",
    "plt.show()"
   ]
  },
  {
   "cell_type": "markdown",
   "execution_count": null,
   "metadata": {
    "papermill": {
     "duration": 0.034836,
     "end_time": "2020-08-27T23:24:34.945873",
     "exception": false,
     "start_time": "2020-08-27T23:24:34.911037",
     "status": "completed"
    },
    "tags": []
   },
   "source": [
    "**Imputing missing value**"
   ]
  },
  {
   "cell_type": "code",
   "execution_count": 29,
   "metadata": {
    "execution": {
     "iopub.execute_input": "2020-08-27T23:24:35.022775Z",
     "iopub.status.busy": "2020-08-27T23:24:35.022029Z",
     "iopub.status.idle": "2020-08-27T23:24:35.024868Z",
     "shell.execute_reply": "2020-08-27T23:24:35.025420Z"
    },
    "papermill": {
     "duration": 0.044876,
     "end_time": "2020-08-27T23:24:35.025583",
     "exception": false,
     "start_time": "2020-08-27T23:24:34.980707",
     "status": "completed"
    },
    "tags": []
   },
   "outputs": [],
   "source": [
    "# firstly we are filling null value of column PoolQC\n",
    "# data description says null means \"No Pool\". That make sense,\n",
    "# given the huge ratio of missing value (+99%) and majority of houses have no Pool at all in general,\n",
    "# so we are going to fill null values with none\n",
    "train_test_data[\"PoolQC\"] = train_test_data[\"PoolQC\"].fillna(\"None\")"
   ]
  },
  {
   "cell_type": "code",
   "execution_count": 30,
   "metadata": {
    "execution": {
     "iopub.execute_input": "2020-08-27T23:24:35.103730Z",
     "iopub.status.busy": "2020-08-27T23:24:35.102660Z",
     "iopub.status.idle": "2020-08-27T23:24:35.105967Z",
     "shell.execute_reply": "2020-08-27T23:24:35.105256Z"
    },
    "papermill": {
     "duration": 0.045114,
     "end_time": "2020-08-27T23:24:35.106086",
     "exception": false,
     "start_time": "2020-08-27T23:24:35.060972",
     "status": "completed"
    },
    "tags": []
   },
   "outputs": [],
   "source": [
    "# secondly we are filling null values of column MiscFeature\n",
    "# data description says null means \"no misc feature\",as given that the huge ratio of missing value,\n",
    "# so we are going to fill null values with none\n",
    "train_test_data[\"MiscFeature\"] = train_test_data[\"MiscFeature\"].fillna(\"None\")"
   ]
  },
  {
   "cell_type": "code",
   "execution_count": 31,
   "metadata": {
    "execution": {
     "iopub.execute_input": "2020-08-27T23:24:35.183323Z",
     "iopub.status.busy": "2020-08-27T23:24:35.182239Z",
     "iopub.status.idle": "2020-08-27T23:24:35.185480Z",
     "shell.execute_reply": "2020-08-27T23:24:35.184753Z"
    },
    "papermill": {
     "duration": 0.044425,
     "end_time": "2020-08-27T23:24:35.185613",
     "exception": false,
     "start_time": "2020-08-27T23:24:35.141188",
     "status": "completed"
    },
    "tags": []
   },
   "outputs": [],
   "source": [
    "# now we are filling null values of column Alley \n",
    "# data description says NA means \"no alley access\", as given that the huge ratio of missing value,\n",
    "# so we are going to fill null values with none\n",
    "train_test_data[\"Alley\"] = train_test_data[\"Alley\"].fillna(\"None\")"
   ]
  },
  {
   "cell_type": "code",
   "execution_count": 32,
   "metadata": {
    "execution": {
     "iopub.execute_input": "2020-08-27T23:24:35.263957Z",
     "iopub.status.busy": "2020-08-27T23:24:35.262800Z",
     "iopub.status.idle": "2020-08-27T23:24:35.265846Z",
     "shell.execute_reply": "2020-08-27T23:24:35.266384Z"
    },
    "papermill": {
     "duration": 0.045059,
     "end_time": "2020-08-27T23:24:35.266545",
     "exception": false,
     "start_time": "2020-08-27T23:24:35.221486",
     "status": "completed"
    },
    "tags": []
   },
   "outputs": [],
   "source": [
    "# now we are filling null values of column Fence \n",
    "# data description says NA means \"no fence\", as given that the huge ratio of missing value,\n",
    "# so we are going to fill null values with none\n",
    "train_test_data[\"Fence\"] = train_test_data[\"Fence\"].fillna(\"None\")"
   ]
  },
  {
   "cell_type": "code",
   "execution_count": 33,
   "metadata": {
    "execution": {
     "iopub.execute_input": "2020-08-27T23:24:35.343679Z",
     "iopub.status.busy": "2020-08-27T23:24:35.342900Z",
     "iopub.status.idle": "2020-08-27T23:24:35.345268Z",
     "shell.execute_reply": "2020-08-27T23:24:35.345792Z"
    },
    "papermill": {
     "duration": 0.04427,
     "end_time": "2020-08-27T23:24:35.345946",
     "exception": false,
     "start_time": "2020-08-27T23:24:35.301676",
     "status": "completed"
    },
    "tags": []
   },
   "outputs": [],
   "source": [
    "# now we are filling null values of column FireplaceQu\n",
    "# data description says NA means \"no fireplace\",as given that the huge ratio of missing value,\n",
    "# so we are going to fill null values with none\n",
    "train_test_data[\"FireplaceQu\"] = train_test_data[\"FireplaceQu\"].fillna(\"None\")"
   ]
  },
  {
   "cell_type": "code",
   "execution_count": 34,
   "metadata": {
    "execution": {
     "iopub.execute_input": "2020-08-27T23:24:35.425216Z",
     "iopub.status.busy": "2020-08-27T23:24:35.424075Z",
     "iopub.status.idle": "2020-08-27T23:24:35.443855Z",
     "shell.execute_reply": "2020-08-27T23:24:35.443213Z"
    },
    "papermill": {
     "duration": 0.062884,
     "end_time": "2020-08-27T23:24:35.443975",
     "exception": false,
     "start_time": "2020-08-27T23:24:35.381091",
     "status": "completed"
    },
    "tags": []
   },
   "outputs": [],
   "source": [
    "# now we are filling null values of column LotFrontage\n",
    "# we are going to Group by neighborhood and fill in missing value \n",
    "# by the median LotFrontage of all the neighborhood\n",
    "train_test_data[\"LotFrontage\"] = train_test_data.groupby(\"Neighborhood\")[\"LotFrontage\"].transform(\n",
    "    lambda x: x.fillna(x.median()))"
   ]
  },
  {
   "cell_type": "code",
   "execution_count": 35,
   "metadata": {
    "execution": {
     "iopub.execute_input": "2020-08-27T23:24:35.521938Z",
     "iopub.status.busy": "2020-08-27T23:24:35.520450Z",
     "iopub.status.idle": "2020-08-27T23:24:35.525320Z",
     "shell.execute_reply": "2020-08-27T23:24:35.524694Z"
    },
    "papermill": {
     "duration": 0.046214,
     "end_time": "2020-08-27T23:24:35.525454",
     "exception": false,
     "start_time": "2020-08-27T23:24:35.479240",
     "status": "completed"
    },
    "tags": []
   },
   "outputs": [],
   "source": [
    "# now we are filling null values of columns GarageYrBlt, GarageArea and GarageCars  \n",
    "# Replacing missing data with 0 Since No garage = no cars in such garage.\n",
    "train_test_data[\"GarageYrBlt\"] = train_test_data[\"GarageYrBlt\"].fillna(0)\n",
    "train_test_data[\"GarageArea\"] = train_test_data[\"GarageArea\"].fillna(0)\n",
    "train_test_data[\"GarageCars\"] = train_test_data[\"GarageCars\"].fillna(0)\n",
    "\n"
   ]
  },
  {
   "cell_type": "code",
   "execution_count": 36,
   "metadata": {
    "execution": {
     "iopub.execute_input": "2020-08-27T23:24:35.607973Z",
     "iopub.status.busy": "2020-08-27T23:24:35.607097Z",
     "iopub.status.idle": "2020-08-27T23:24:35.610198Z",
     "shell.execute_reply": "2020-08-27T23:24:35.609563Z"
    },
    "papermill": {
     "duration": 0.049558,
     "end_time": "2020-08-27T23:24:35.610322",
     "exception": false,
     "start_time": "2020-08-27T23:24:35.560764",
     "status": "completed"
    },
    "tags": []
   },
   "outputs": [],
   "source": [
    "# now we are filling null values of columns GarageType, GarageFinish, GarageQual and GarageCond \n",
    "# replacing missing data with none \n",
    "train_test_data[\"GarageType\"] = train_test_data[\"GarageType\"].fillna(\"None\")\n",
    "train_test_data[\"GarageFinish\"] = train_test_data[\"GarageFinish\"].fillna(\"None\")\n",
    "train_test_data[\"GarageQual\"] = train_test_data[\"GarageQual\"].fillna(\"None\")\n",
    "train_test_data[\"GarageCond\"] = train_test_data[\"GarageCond\"].fillna(\"None\")"
   ]
  },
  {
   "cell_type": "code",
   "execution_count": 37,
   "metadata": {
    "execution": {
     "iopub.execute_input": "2020-08-27T23:24:35.691966Z",
     "iopub.status.busy": "2020-08-27T23:24:35.691194Z",
     "iopub.status.idle": "2020-08-27T23:24:35.694941Z",
     "shell.execute_reply": "2020-08-27T23:24:35.695493Z"
    },
    "papermill": {
     "duration": 0.050016,
     "end_time": "2020-08-27T23:24:35.695667",
     "exception": false,
     "start_time": "2020-08-27T23:24:35.645651",
     "status": "completed"
    },
    "tags": []
   },
   "outputs": [],
   "source": [
    "# now we are filling null values of columns BsmtFinSF1, BsmtFinSF2, BsmtUnfSF, TotalBsmtSF, BsmtFullBath \n",
    "# and BsmtHalfBath\n",
    "# Replacing missing values with 0 for having no basement\n",
    "train_test_data[\"BsmtFinSF1\"] = train_test_data[\"BsmtFinSF1\"].fillna(0)\n",
    "train_test_data[\"BsmtFinSF2\"] = train_test_data[\"BsmtFinSF2\"].fillna(0)\n",
    "train_test_data[\"BsmtUnfSF\"] = train_test_data[\"BsmtUnfSF\"].fillna(0)\n",
    "train_test_data[\"TotalBsmtSF\"] = train_test_data[\"TotalBsmtSF\"].fillna(0)\n",
    "train_test_data[\"BsmtFullBath\"] = train_test_data[\"BsmtFullBath\"].fillna(0)\n",
    "train_test_data[\"BsmtHalfBath\"] = train_test_data[\"BsmtHalfBath\"].fillna(0)\n"
   ]
  },
  {
   "cell_type": "code",
   "execution_count": 38,
   "metadata": {
    "execution": {
     "iopub.execute_input": "2020-08-27T23:24:35.779530Z",
     "iopub.status.busy": "2020-08-27T23:24:35.778418Z",
     "iopub.status.idle": "2020-08-27T23:24:35.782045Z",
     "shell.execute_reply": "2020-08-27T23:24:35.781324Z"
    },
    "papermill": {
     "duration": 0.051342,
     "end_time": "2020-08-27T23:24:35.782188",
     "exception": false,
     "start_time": "2020-08-27T23:24:35.730846",
     "status": "completed"
    },
    "tags": []
   },
   "outputs": [],
   "source": [
    "# now we are filling null values in these categorical columns\n",
    "# BsmtQual, BsmtCond, BsmtExposure, BsmtFinType1 and BsmtFinType2\n",
    "# replacing missing values with none for having on basement\n",
    "train_test_data[\"BsmtQual\"] = train_test_data[\"BsmtQual\"].fillna(\"none\")\n",
    "train_test_data[\"BsmtCond\"] = train_test_data[\"BsmtCond\"].fillna(\"none\")\n",
    "train_test_data[\"BsmtExposure\"] = train_test_data[\"BsmtExposure\"].fillna(\"none\")\n",
    "train_test_data[\"BsmtFinType1\"] = train_test_data[\"BsmtFinType1\"].fillna(\"none\")\n",
    "train_test_data[\"BsmtFinType2\"] = train_test_data[\"BsmtFinType2\"].fillna(\"none\")"
   ]
  },
  {
   "cell_type": "code",
   "execution_count": 39,
   "metadata": {
    "execution": {
     "iopub.execute_input": "2020-08-27T23:24:35.860320Z",
     "iopub.status.busy": "2020-08-27T23:24:35.859421Z",
     "iopub.status.idle": "2020-08-27T23:24:35.863499Z",
     "shell.execute_reply": "2020-08-27T23:24:35.862764Z"
    },
    "papermill": {
     "duration": 0.045953,
     "end_time": "2020-08-27T23:24:35.863629",
     "exception": false,
     "start_time": "2020-08-27T23:24:35.817676",
     "status": "completed"
    },
    "tags": []
   },
   "outputs": [],
   "source": [
    "# now we are filling null values of columns MasVnrArea and MasVnrType\n",
    "# replacing missing value with none in column MasVnrType and 0 in column MasVnrArea \n",
    "# for having no masonry veneer for these houses\n",
    "train_test_data[\"MasVnrArea\"] = train_test_data[\"MasVnrArea\"].fillna(0)\n",
    "train_test_data[\"MasVnrType\"] = train_test_data[\"MasVnrType\"].fillna(\"None\")"
   ]
  },
  {
   "cell_type": "code",
   "execution_count": 40,
   "metadata": {
    "execution": {
     "iopub.execute_input": "2020-08-27T23:24:35.942368Z",
     "iopub.status.busy": "2020-08-27T23:24:35.941407Z",
     "iopub.status.idle": "2020-08-27T23:24:35.944629Z",
     "shell.execute_reply": "2020-08-27T23:24:35.943983Z"
    },
    "papermill": {
     "duration": 0.046078,
     "end_time": "2020-08-27T23:24:35.944755",
     "exception": false,
     "start_time": "2020-08-27T23:24:35.898677",
     "status": "completed"
    },
    "tags": []
   },
   "outputs": [],
   "source": [
    "# now we are filling null values of column MSZoning\n",
    "# as 'RL' is by far the most common value.\n",
    "# so we are replacing missing values with RL using mode\n",
    "train_test_data[\"MSZoning\"] = train_test_data[\"MSZoning\"].fillna(train_test_data['MSZoning'].mode()[0])"
   ]
  },
  {
   "cell_type": "code",
   "execution_count": 41,
   "metadata": {
    "execution": {
     "iopub.execute_input": "2020-08-27T23:24:36.023874Z",
     "iopub.status.busy": "2020-08-27T23:24:36.022067Z",
     "iopub.status.idle": "2020-08-27T23:24:36.027315Z",
     "shell.execute_reply": "2020-08-27T23:24:36.026570Z"
    },
    "papermill": {
     "duration": 0.046893,
     "end_time": "2020-08-27T23:24:36.027442",
     "exception": false,
     "start_time": "2020-08-27T23:24:35.980549",
     "status": "completed"
    },
    "tags": []
   },
   "outputs": [],
   "source": [
    "# here we are removing Utilities column because it will not play important role in doing prediction\n",
    "train_test_data = train_test_data.drop(['Utilities'], axis=1)"
   ]
  },
  {
   "cell_type": "code",
   "execution_count": 42,
   "metadata": {
    "execution": {
     "iopub.execute_input": "2020-08-27T23:24:36.115484Z",
     "iopub.status.busy": "2020-08-27T23:24:36.114362Z",
     "iopub.status.idle": "2020-08-27T23:24:36.117981Z",
     "shell.execute_reply": "2020-08-27T23:24:36.117171Z"
    },
    "papermill": {
     "duration": 0.050687,
     "end_time": "2020-08-27T23:24:36.118184",
     "exception": false,
     "start_time": "2020-08-27T23:24:36.067497",
     "status": "completed"
    },
    "tags": []
   },
   "outputs": [],
   "source": [
    "# here we are filling null values of column Functional\n",
    "# data description says NA means typical so we are filling missing values with TYP\n",
    "train_test_data[\"Functional\"] = train_test_data[\"Functional\"].fillna(\"Typ\")"
   ]
  },
  {
   "cell_type": "code",
   "execution_count": 43,
   "metadata": {
    "execution": {
     "iopub.execute_input": "2020-08-27T23:24:36.209241Z",
     "iopub.status.busy": "2020-08-27T23:24:36.208138Z",
     "iopub.status.idle": "2020-08-27T23:24:36.211078Z",
     "shell.execute_reply": "2020-08-27T23:24:36.211831Z"
    },
    "papermill": {
     "duration": 0.051081,
     "end_time": "2020-08-27T23:24:36.212048",
     "exception": false,
     "start_time": "2020-08-27T23:24:36.160967",
     "status": "completed"
    },
    "tags": []
   },
   "outputs": [],
   "source": [
    "# here we are filling null values of column Electrical\n",
    "# It has one NA value. Since this feature has mostly 'SBrkr', \n",
    "# so we are filling missing values with \"SBrkr\" using mode\n",
    "train_test_data[\"Electrical\"] = train_test_data[\"Electrical\"].fillna(train_test_data[\"Electrical\"].mode()[0])"
   ]
  },
  {
   "cell_type": "code",
   "execution_count": 44,
   "metadata": {
    "execution": {
     "iopub.execute_input": "2020-08-27T23:24:36.322432Z",
     "iopub.status.busy": "2020-08-27T23:24:36.321590Z",
     "iopub.status.idle": "2020-08-27T23:24:36.325562Z",
     "shell.execute_reply": "2020-08-27T23:24:36.324791Z"
    },
    "papermill": {
     "duration": 0.06305,
     "end_time": "2020-08-27T23:24:36.325693",
     "exception": false,
     "start_time": "2020-08-27T23:24:36.262643",
     "status": "completed"
    },
    "tags": []
   },
   "outputs": [],
   "source": [
    "# here we are filling null values of column KitchenQual  \n",
    "# Only one NA value, and same as Electrical,since this feature has mostly \"TA\",\n",
    "# so we are filling missing values with \"TA\" using mode\n",
    "train_test_data[\"KitchenQual\"] = train_test_data[\"KitchenQual\"].fillna(train_test_data[\"KitchenQual\"].mode()[0])"
   ]
  },
  {
   "cell_type": "code",
   "execution_count": 45,
   "metadata": {
    "execution": {
     "iopub.execute_input": "2020-08-27T23:24:36.412307Z",
     "iopub.status.busy": "2020-08-27T23:24:36.411479Z",
     "iopub.status.idle": "2020-08-27T23:24:36.414879Z",
     "shell.execute_reply": "2020-08-27T23:24:36.414243Z"
    },
    "papermill": {
     "duration": 0.048933,
     "end_time": "2020-08-27T23:24:36.415009",
     "exception": false,
     "start_time": "2020-08-27T23:24:36.366076",
     "status": "completed"
    },
    "tags": []
   },
   "outputs": [],
   "source": [
    "# here we are filling null values of columns Exterior1st and Exterior2nd\n",
    "# Again Both Exterior 1 & 2 have only one missing value,\n",
    "# so we are filling missing values using mode\n",
    "train_test_data[\"Exterior1st\"] = train_test_data[\"Exterior1st\"].fillna(train_test_data[\"Exterior1st\"].mode()[0])\n",
    "train_test_data[\"Exterior2nd\"] = train_test_data[\"Exterior2nd\"].fillna(train_test_data[\"Exterior2nd\"].mode()[0])"
   ]
  },
  {
   "cell_type": "code",
   "execution_count": 46,
   "metadata": {
    "execution": {
     "iopub.execute_input": "2020-08-27T23:24:36.495252Z",
     "iopub.status.busy": "2020-08-27T23:24:36.494495Z",
     "iopub.status.idle": "2020-08-27T23:24:36.498007Z",
     "shell.execute_reply": "2020-08-27T23:24:36.497305Z"
    },
    "papermill": {
     "duration": 0.046762,
     "end_time": "2020-08-27T23:24:36.498132",
     "exception": false,
     "start_time": "2020-08-27T23:24:36.451370",
     "status": "completed"
    },
    "tags": []
   },
   "outputs": [],
   "source": [
    "# here we are filling null values of columns SaleType\n",
    "# Since this feature has mostly 'WD'\n",
    "# so we are filling missing values with \"WD\" using mode\n",
    "train_test_data[\"SaleType\"] = train_test_data[\"SaleType\"].fillna(train_test_data[\"SaleType\"].mode()[0])"
   ]
  },
  {
   "cell_type": "code",
   "execution_count": 47,
   "metadata": {
    "execution": {
     "iopub.execute_input": "2020-08-27T23:24:36.574802Z",
     "iopub.status.busy": "2020-08-27T23:24:36.574013Z",
     "iopub.status.idle": "2020-08-27T23:24:36.576884Z",
     "shell.execute_reply": "2020-08-27T23:24:36.577601Z"
    },
    "papermill": {
     "duration": 0.044314,
     "end_time": "2020-08-27T23:24:36.577760",
     "exception": false,
     "start_time": "2020-08-27T23:24:36.533446",
     "status": "completed"
    },
    "tags": []
   },
   "outputs": [],
   "source": [
    "# here we are filling null values of columns MSSubClass\n",
    "# data discription Na most likely means No building class\n",
    "# so we are going to replace missing values with none\n",
    "train_test_data[\"MSSubClass\"] = train_test_data[\"MSSubClass\"].fillna(\"none\")"
   ]
  },
  {
   "cell_type": "code",
   "execution_count": 48,
   "metadata": {
    "execution": {
     "iopub.execute_input": "2020-08-27T23:24:36.669858Z",
     "iopub.status.busy": "2020-08-27T23:24:36.669038Z",
     "iopub.status.idle": "2020-08-27T23:24:36.681944Z",
     "shell.execute_reply": "2020-08-27T23:24:36.681366Z"
    },
    "papermill": {
     "duration": 0.068255,
     "end_time": "2020-08-27T23:24:36.682072",
     "exception": false,
     "start_time": "2020-08-27T23:24:36.613817",
     "status": "completed"
    },
    "tags": []
   },
   "outputs": [
    {
     "data": {
      "text/html": [
       "<div>\n",
       "<style scoped>\n",
       "    .dataframe tbody tr th:only-of-type {\n",
       "        vertical-align: middle;\n",
       "    }\n",
       "\n",
       "    .dataframe tbody tr th {\n",
       "        vertical-align: top;\n",
       "    }\n",
       "\n",
       "    .dataframe thead th {\n",
       "        text-align: right;\n",
       "    }\n",
       "</style>\n",
       "<table border=\"1\" class=\"dataframe\">\n",
       "  <thead>\n",
       "    <tr style=\"text-align: right;\">\n",
       "      <th></th>\n",
       "      <th>Missing Ratio</th>\n",
       "    </tr>\n",
       "  </thead>\n",
       "  <tbody>\n",
       "  </tbody>\n",
       "</table>\n",
       "</div>"
      ],
      "text/plain": [
       "Empty DataFrame\n",
       "Columns: [Missing Ratio]\n",
       "Index: []"
      ]
     },
     "execution_count": 48,
     "metadata": {},
     "output_type": "execute_result"
    }
   ],
   "source": [
    "# now checking ones again if there is any missing value or not\n",
    "all_data_na = (train_test_data.isnull().sum() / len(train_test_data)) * 100\n",
    "all_data_na = all_data_na.drop(all_data_na[all_data_na == 0].index).sort_values(ascending=False)[:30]\n",
    "missing_data = pd.DataFrame({'Missing Ratio' :all_data_na})\n",
    "missing_data.head()"
   ]
  },
  {
   "cell_type": "markdown",
   "execution_count": null,
   "metadata": {
    "papermill": {
     "duration": 0.034894,
     "end_time": "2020-08-27T23:24:36.752642",
     "exception": false,
     "start_time": "2020-08-27T23:24:36.717748",
     "status": "completed"
    },
    "tags": []
   },
   "source": [
    "**Transforming some numerical variables that are really categorical**"
   ]
  },
  {
   "cell_type": "code",
   "execution_count": 49,
   "metadata": {
    "execution": {
     "iopub.execute_input": "2020-08-27T23:24:36.835556Z",
     "iopub.status.busy": "2020-08-27T23:24:36.833616Z",
     "iopub.status.idle": "2020-08-27T23:24:36.841569Z",
     "shell.execute_reply": "2020-08-27T23:24:36.840912Z"
    },
    "papermill": {
     "duration": 0.053842,
     "end_time": "2020-08-27T23:24:36.841694",
     "exception": false,
     "start_time": "2020-08-27T23:24:36.787852",
     "status": "completed"
    },
    "tags": []
   },
   "outputs": [],
   "source": [
    "#MSSubClass The building class\n",
    "train_test_data['MSSubClass'] = train_test_data['MSSubClass'].apply(str)\n",
    "\n",
    "\n",
    "#Changing OverallCond into a categorical variable\n",
    "train_test_data['OverallCond'] = train_test_data['OverallCond'].astype(str)\n",
    "\n",
    "\n",
    "#Changing Year and month sold are into categorical features.\n",
    "train_test_data['YrSold'] = train_test_data['YrSold'].astype(str)\n",
    "train_test_data['MoSold'] = train_test_data['MoSold'].astype(str)"
   ]
  },
  {
   "cell_type": "markdown",
   "execution_count": null,
   "metadata": {
    "papermill": {
     "duration": 0.035402,
     "end_time": "2020-08-27T23:24:36.912313",
     "exception": false,
     "start_time": "2020-08-27T23:24:36.876911",
     "status": "completed"
    },
    "tags": []
   },
   "source": [
    "**Performing Label Encoding**"
   ]
  },
  {
   "cell_type": "code",
   "execution_count": 50,
   "metadata": {
    "execution": {
     "iopub.execute_input": "2020-08-27T23:24:37.058325Z",
     "iopub.status.busy": "2020-08-27T23:24:37.057436Z",
     "iopub.status.idle": "2020-08-27T23:24:37.208597Z",
     "shell.execute_reply": "2020-08-27T23:24:37.207908Z"
    },
    "papermill": {
     "duration": 0.196353,
     "end_time": "2020-08-27T23:24:37.208732",
     "exception": false,
     "start_time": "2020-08-27T23:24:37.012379",
     "status": "completed"
    },
    "tags": []
   },
   "outputs": [
    {
     "data": {
      "text/plain": [
       "(2917, 78)"
      ]
     },
     "execution_count": 50,
     "metadata": {},
     "output_type": "execute_result"
    }
   ],
   "source": [
    "# here we are imporitng libraries for performing label encoder\n",
    "from sklearn.preprocessing import LabelEncoder\n",
    "columns = ('FireplaceQu', 'BsmtQual', 'BsmtCond', 'GarageQual', 'GarageCond', \n",
    "        'ExterQual', 'ExterCond','HeatingQC', 'PoolQC', 'KitchenQual', 'BsmtFinType1', \n",
    "        'BsmtFinType2', 'Functional', 'Fence', 'BsmtExposure', 'GarageFinish', 'LandSlope',\n",
    "        'LotShape', 'PavedDrive', 'Street', 'Alley', 'CentralAir', 'MSSubClass', 'OverallCond', \n",
    "        'YrSold', 'MoSold')\n",
    "for c in columns:\n",
    "    lb = LabelEncoder()\n",
    "    lb.fit(list(train_test_data[c].values))\n",
    "    train_test_data[c] = lb.transform(list(train_test_data[c].values))\n",
    "# here we are printing shape of our dataset\n",
    "train_test_data.shape"
   ]
  },
  {
   "cell_type": "code",
   "execution_count": 51,
   "metadata": {
    "execution": {
     "iopub.execute_input": "2020-08-27T23:24:37.286700Z",
     "iopub.status.busy": "2020-08-27T23:24:37.285808Z",
     "iopub.status.idle": "2020-08-27T23:24:37.288992Z",
     "shell.execute_reply": "2020-08-27T23:24:37.288296Z"
    },
    "papermill": {
     "duration": 0.045015,
     "end_time": "2020-08-27T23:24:37.289119",
     "exception": false,
     "start_time": "2020-08-27T23:24:37.244104",
     "status": "completed"
    },
    "tags": []
   },
   "outputs": [],
   "source": [
    "# here we are adding one more feature\n",
    "# adding total sqfootage feature this feature is combination of total area of basement,first\n",
    "# and second floor area of each house\n",
    "train_test_data[\"TotalSF\"] = train_test_data[\"TotalBsmtSF\"]+train_test_data[\"1stFlrSF\"]+train_test_data[\"2ndFlrSF\"]"
   ]
  },
  {
   "cell_type": "markdown",
   "execution_count": null,
   "metadata": {
    "papermill": {
     "duration": 0.034722,
     "end_time": "2020-08-27T23:24:37.360482",
     "exception": false,
     "start_time": "2020-08-27T23:24:37.325760",
     "status": "completed"
    },
    "tags": []
   },
   "source": [
    "**Skewed features**"
   ]
  },
  {
   "cell_type": "code",
   "execution_count": 52,
   "metadata": {
    "execution": {
     "iopub.execute_input": "2020-08-27T23:24:37.441533Z",
     "iopub.status.busy": "2020-08-27T23:24:37.440351Z",
     "iopub.status.idle": "2020-08-27T23:24:37.490173Z",
     "shell.execute_reply": "2020-08-27T23:24:37.489513Z"
    },
    "papermill": {
     "duration": 0.094843,
     "end_time": "2020-08-27T23:24:37.490313",
     "exception": false,
     "start_time": "2020-08-27T23:24:37.395470",
     "status": "completed"
    },
    "tags": []
   },
   "outputs": [
    {
     "name": "stdout",
     "output_type": "stream",
     "text": [
      "\n",
      "Skew in numerical features: \n",
      "\n"
     ]
    },
    {
     "data": {
      "text/html": [
       "<div>\n",
       "<style scoped>\n",
       "    .dataframe tbody tr th:only-of-type {\n",
       "        vertical-align: middle;\n",
       "    }\n",
       "\n",
       "    .dataframe tbody tr th {\n",
       "        vertical-align: top;\n",
       "    }\n",
       "\n",
       "    .dataframe thead th {\n",
       "        text-align: right;\n",
       "    }\n",
       "</style>\n",
       "<table border=\"1\" class=\"dataframe\">\n",
       "  <thead>\n",
       "    <tr style=\"text-align: right;\">\n",
       "      <th></th>\n",
       "      <th>Skew</th>\n",
       "    </tr>\n",
       "  </thead>\n",
       "  <tbody>\n",
       "    <tr>\n",
       "      <th>MiscVal</th>\n",
       "      <td>21.939672</td>\n",
       "    </tr>\n",
       "    <tr>\n",
       "      <th>PoolArea</th>\n",
       "      <td>17.688664</td>\n",
       "    </tr>\n",
       "    <tr>\n",
       "      <th>LotArea</th>\n",
       "      <td>13.109495</td>\n",
       "    </tr>\n",
       "    <tr>\n",
       "      <th>LowQualFinSF</th>\n",
       "      <td>12.084539</td>\n",
       "    </tr>\n",
       "    <tr>\n",
       "      <th>3SsnPorch</th>\n",
       "      <td>11.372080</td>\n",
       "    </tr>\n",
       "    <tr>\n",
       "      <th>LandSlope</th>\n",
       "      <td>4.973254</td>\n",
       "    </tr>\n",
       "    <tr>\n",
       "      <th>KitchenAbvGr</th>\n",
       "      <td>4.300550</td>\n",
       "    </tr>\n",
       "    <tr>\n",
       "      <th>BsmtFinSF2</th>\n",
       "      <td>4.144503</td>\n",
       "    </tr>\n",
       "    <tr>\n",
       "      <th>EnclosedPorch</th>\n",
       "      <td>4.002344</td>\n",
       "    </tr>\n",
       "    <tr>\n",
       "      <th>ScreenPorch</th>\n",
       "      <td>3.945101</td>\n",
       "    </tr>\n",
       "  </tbody>\n",
       "</table>\n",
       "</div>"
      ],
      "text/plain": [
       "                    Skew\n",
       "MiscVal        21.939672\n",
       "PoolArea       17.688664\n",
       "LotArea        13.109495\n",
       "LowQualFinSF   12.084539\n",
       "3SsnPorch      11.372080\n",
       "LandSlope       4.973254\n",
       "KitchenAbvGr    4.300550\n",
       "BsmtFinSF2      4.144503\n",
       "EnclosedPorch   4.002344\n",
       "ScreenPorch     3.945101"
      ]
     },
     "execution_count": 52,
     "metadata": {},
     "output_type": "execute_result"
    }
   ],
   "source": [
    "from scipy import stats\n",
    "from scipy.stats import norm, skew\n",
    "numeric_feats = train_test_data.dtypes[train_test_data.dtypes != \"object\"].index\n",
    "\n",
    "# Check the skew of all numerical features\n",
    "skewed_feats = train_test_data[numeric_feats].apply(lambda x: skew(x.dropna())).sort_values(ascending=False)\n",
    "print(\"\\nSkew in numerical features: \\n\")\n",
    "skewness = pd.DataFrame({'Skew' :skewed_feats})\n",
    "skewness.head(10)"
   ]
  },
  {
   "cell_type": "markdown",
   "execution_count": null,
   "metadata": {
    "papermill": {
     "duration": 0.035188,
     "end_time": "2020-08-27T23:24:37.560725",
     "exception": false,
     "start_time": "2020-08-27T23:24:37.525537",
     "status": "completed"
    },
    "tags": []
   },
   "source": [
    "**Box Cox Transformation of (highly) skewed features**"
   ]
  },
  {
   "cell_type": "code",
   "execution_count": 53,
   "metadata": {
    "execution": {
     "iopub.execute_input": "2020-08-27T23:24:37.641666Z",
     "iopub.status.busy": "2020-08-27T23:24:37.640749Z",
     "iopub.status.idle": "2020-08-27T23:24:37.678675Z",
     "shell.execute_reply": "2020-08-27T23:24:37.679247Z"
    },
    "papermill": {
     "duration": 0.08341,
     "end_time": "2020-08-27T23:24:37.679425",
     "exception": false,
     "start_time": "2020-08-27T23:24:37.596015",
     "status": "completed"
    },
    "tags": []
   },
   "outputs": [
    {
     "name": "stdout",
     "output_type": "stream",
     "text": [
      "There are 59 skewed numerical features to Box Cox transform\n"
     ]
    }
   ],
   "source": [
    "skewness = skewness[abs(skewness) > 0.75]\n",
    "print(\"There are {} skewed numerical features to Box Cox transform\".format(skewness.shape[0]))\n",
    "\n",
    "from scipy.special import boxcox1p\n",
    "skewed_features = skewness.index\n",
    "lam = 0.15\n",
    "for feat in skewed_features:\n",
    "    #all_data[feat] += 1\n",
    "    train_test_data[feat] = boxcox1p(train_test_data[feat], lam)\n",
    "    \n",
    "#all_data[skewed_features] = np.log1p(all_data[skewed_features])"
   ]
  },
  {
   "cell_type": "code",
   "execution_count": 54,
   "metadata": {
    "execution": {
     "iopub.execute_input": "2020-08-27T23:24:37.757989Z",
     "iopub.status.busy": "2020-08-27T23:24:37.757270Z",
     "iopub.status.idle": "2020-08-27T23:24:37.791020Z",
     "shell.execute_reply": "2020-08-27T23:24:37.791594Z"
    },
    "papermill": {
     "duration": 0.076741,
     "end_time": "2020-08-27T23:24:37.791761",
     "exception": false,
     "start_time": "2020-08-27T23:24:37.715020",
     "status": "completed"
    },
    "tags": []
   },
   "outputs": [
    {
     "name": "stdout",
     "output_type": "stream",
     "text": [
      "(2917, 220)\n"
     ]
    }
   ],
   "source": [
    "# creating dummy variable of categorical features\n",
    "train_test_data = pd.get_dummies(train_test_data)\n",
    "print(train_test_data.shape)"
   ]
  },
  {
   "cell_type": "markdown",
   "execution_count": null,
   "metadata": {
    "papermill": {
     "duration": 0.035378,
     "end_time": "2020-08-27T23:24:37.862978",
     "exception": false,
     "start_time": "2020-08-27T23:24:37.827600",
     "status": "completed"
    },
    "tags": []
   },
   "source": [
    "# Building Model"
   ]
  },
  {
   "cell_type": "code",
   "execution_count": 55,
   "metadata": {
    "execution": {
     "iopub.execute_input": "2020-08-27T23:24:37.940756Z",
     "iopub.status.busy": "2020-08-27T23:24:37.939984Z",
     "iopub.status.idle": "2020-08-27T23:24:37.943340Z",
     "shell.execute_reply": "2020-08-27T23:24:37.942726Z"
    },
    "papermill": {
     "duration": 0.044691,
     "end_time": "2020-08-27T23:24:37.943484",
     "exception": false,
     "start_time": "2020-08-27T23:24:37.898793",
     "status": "completed"
    },
    "tags": []
   },
   "outputs": [],
   "source": [
    "# here we are getting new set of train and test\n",
    "x = train_test_data[:ntrain]\n",
    "y = train_test_data[ntrain:]"
   ]
  },
  {
   "cell_type": "code",
   "execution_count": 56,
   "metadata": {
    "execution": {
     "iopub.execute_input": "2020-08-27T23:24:38.022886Z",
     "iopub.status.busy": "2020-08-27T23:24:38.022121Z",
     "iopub.status.idle": "2020-08-27T23:24:39.237704Z",
     "shell.execute_reply": "2020-08-27T23:24:39.236688Z"
    },
    "papermill": {
     "duration": 1.258652,
     "end_time": "2020-08-27T23:24:39.237860",
     "exception": false,
     "start_time": "2020-08-27T23:24:37.979208",
     "status": "completed"
    },
    "tags": []
   },
   "outputs": [],
   "source": [
    "# here we are imporitng important libraries which we are needed in doing prediction\n",
    "from sklearn.linear_model import ElasticNet, Lasso,  BayesianRidge,LassoLarsIC\n",
    "from sklearn.ensemble import RandomForestRegressor,  GradientBoostingRegressor\n",
    "from sklearn.kernel_ridge import KernelRidge\n",
    "from sklearn.pipeline import make_pipeline\n",
    "from sklearn.preprocessing import RobustScaler\n",
    "from sklearn.base import BaseEstimator, TransformerMixin, RegressorMixin, clone\n",
    "from sklearn.model_selection import KFold, cross_val_score, train_test_split\n",
    "from sklearn.metrics import mean_squared_error\n",
    "import xgboost as xgb\n",
    "import lightgbm as lgb"
   ]
  },
  {
   "cell_type": "code",
   "execution_count": 57,
   "metadata": {
    "execution": {
     "iopub.execute_input": "2020-08-27T23:24:39.316788Z",
     "iopub.status.busy": "2020-08-27T23:24:39.316028Z",
     "iopub.status.idle": "2020-08-27T23:24:39.319078Z",
     "shell.execute_reply": "2020-08-27T23:24:39.318523Z"
    },
    "papermill": {
     "duration": 0.045663,
     "end_time": "2020-08-27T23:24:39.319219",
     "exception": false,
     "start_time": "2020-08-27T23:24:39.273556",
     "status": "completed"
    },
    "tags": []
   },
   "outputs": [],
   "source": [
    "#Validation function\n",
    "n_folds = 5\n",
    "\n",
    "def rmsle_cv(model):\n",
    "    kf = KFold(n_folds, shuffle=True, random_state=42).get_n_splits(x.values)\n",
    "    rmse= np.sqrt(-cross_val_score(model, x.values, y_train, scoring=\"neg_mean_squared_error\", cv = kf))\n",
    "    return(rmse)"
   ]
  },
  {
   "cell_type": "markdown",
   "execution_count": null,
   "metadata": {
    "papermill": {
     "duration": 0.035314,
     "end_time": "2020-08-27T23:24:39.390383",
     "exception": false,
     "start_time": "2020-08-27T23:24:39.355069",
     "status": "completed"
    },
    "tags": []
   },
   "source": [
    "#  Base Models"
   ]
  },
  {
   "cell_type": "markdown",
   "execution_count": null,
   "metadata": {
    "papermill": {
     "duration": 0.035596,
     "end_time": "2020-08-27T23:24:39.463097",
     "exception": false,
     "start_time": "2020-08-27T23:24:39.427501",
     "status": "completed"
    },
    "tags": []
   },
   "source": [
    "**Lasso regrssion**"
   ]
  },
  {
   "cell_type": "markdown",
   "execution_count": null,
   "metadata": {
    "papermill": {
     "duration": 0.035291,
     "end_time": "2020-08-27T23:24:39.534525",
     "exception": false,
     "start_time": "2020-08-27T23:24:39.499234",
     "status": "completed"
    },
    "tags": []
   },
   "source": [
    "This model may be very sensitive to outliers. So we need to made it more robust on them. For that we use the sklearn's Robustscaler() method on pipeline."
   ]
  },
  {
   "cell_type": "code",
   "execution_count": 58,
   "metadata": {
    "execution": {
     "iopub.execute_input": "2020-08-27T23:24:39.612165Z",
     "iopub.status.busy": "2020-08-27T23:24:39.611440Z",
     "iopub.status.idle": "2020-08-27T23:24:39.614923Z",
     "shell.execute_reply": "2020-08-27T23:24:39.614219Z"
    },
    "papermill": {
     "duration": 0.044797,
     "end_time": "2020-08-27T23:24:39.615073",
     "exception": false,
     "start_time": "2020-08-27T23:24:39.570276",
     "status": "completed"
    },
    "tags": []
   },
   "outputs": [],
   "source": [
    "lasso = make_pipeline(RobustScaler(), Lasso(alpha =0.0005, random_state=1))"
   ]
  },
  {
   "cell_type": "code",
   "execution_count": 59,
   "metadata": {
    "execution": {
     "iopub.execute_input": "2020-08-27T23:24:39.693163Z",
     "iopub.status.busy": "2020-08-27T23:24:39.692423Z",
     "iopub.status.idle": "2020-08-27T23:24:40.325172Z",
     "shell.execute_reply": "2020-08-27T23:24:40.325927Z"
    },
    "papermill": {
     "duration": 0.674919,
     "end_time": "2020-08-27T23:24:40.326081",
     "exception": false,
     "start_time": "2020-08-27T23:24:39.651162",
     "status": "completed"
    },
    "tags": []
   },
   "outputs": [
    {
     "name": "stdout",
     "output_type": "stream",
     "text": [
      "\n",
      "Lasso score: 0.1114 (0.0075)\n",
      "\n"
     ]
    }
   ],
   "source": [
    "# here we are calculating base model score\n",
    "score = rmsle_cv(lasso)\n",
    "print(\"\\nLasso score: {:.4f} ({:.4f})\\n\".format(score.mean(), score.std()))\n"
   ]
  },
  {
   "cell_type": "markdown",
   "execution_count": null,
   "metadata": {
    "papermill": {
     "duration": 0.035678,
     "end_time": "2020-08-27T23:24:40.397706",
     "exception": false,
     "start_time": "2020-08-27T23:24:40.362028",
     "status": "completed"
    },
    "tags": []
   },
   "source": [
    "**Elastic Net Regression**"
   ]
  },
  {
   "cell_type": "markdown",
   "execution_count": null,
   "metadata": {
    "papermill": {
     "duration": 0.051844,
     "end_time": "2020-08-27T23:24:40.492562",
     "exception": false,
     "start_time": "2020-08-27T23:24:40.440718",
     "status": "completed"
    },
    "tags": []
   },
   "source": [
    "again for outliers"
   ]
  },
  {
   "cell_type": "code",
   "execution_count": 60,
   "metadata": {
    "execution": {
     "iopub.execute_input": "2020-08-27T23:24:40.602202Z",
     "iopub.status.busy": "2020-08-27T23:24:40.601102Z",
     "iopub.status.idle": "2020-08-27T23:24:40.604602Z",
     "shell.execute_reply": "2020-08-27T23:24:40.603855Z"
    },
    "papermill": {
     "duration": 0.063422,
     "end_time": "2020-08-27T23:24:40.604725",
     "exception": false,
     "start_time": "2020-08-27T23:24:40.541303",
     "status": "completed"
    },
    "tags": []
   },
   "outputs": [],
   "source": [
    "ENet = make_pipeline(RobustScaler(), ElasticNet(alpha=0.0005, l1_ratio=.9, random_state=3))"
   ]
  },
  {
   "cell_type": "code",
   "execution_count": 61,
   "metadata": {
    "execution": {
     "iopub.execute_input": "2020-08-27T23:24:40.684306Z",
     "iopub.status.busy": "2020-08-27T23:24:40.683496Z",
     "iopub.status.idle": "2020-08-27T23:24:41.320289Z",
     "shell.execute_reply": "2020-08-27T23:24:41.319561Z"
    },
    "papermill": {
     "duration": 0.67839,
     "end_time": "2020-08-27T23:24:41.320440",
     "exception": false,
     "start_time": "2020-08-27T23:24:40.642050",
     "status": "completed"
    },
    "tags": []
   },
   "outputs": [
    {
     "name": "stdout",
     "output_type": "stream",
     "text": [
      "ElasticNet score: 0.1114 (0.0075)\n",
      "\n"
     ]
    }
   ],
   "source": [
    "# calculating Base model score\n",
    "score = rmsle_cv(ENet)\n",
    "print(\"ElasticNet score: {:.4f} ({:.4f})\\n\".format(score.mean(), score.std()))"
   ]
  },
  {
   "cell_type": "markdown",
   "execution_count": null,
   "metadata": {
    "papermill": {
     "duration": 0.035378,
     "end_time": "2020-08-27T23:24:41.399404",
     "exception": false,
     "start_time": "2020-08-27T23:24:41.364026",
     "status": "completed"
    },
    "tags": []
   },
   "source": [
    "**Kernel Ridge Regression**"
   ]
  },
  {
   "cell_type": "code",
   "execution_count": 62,
   "metadata": {
    "execution": {
     "iopub.execute_input": "2020-08-27T23:24:41.478350Z",
     "iopub.status.busy": "2020-08-27T23:24:41.477525Z",
     "iopub.status.idle": "2020-08-27T23:24:41.481067Z",
     "shell.execute_reply": "2020-08-27T23:24:41.480359Z"
    },
    "papermill": {
     "duration": 0.045635,
     "end_time": "2020-08-27T23:24:41.481210",
     "exception": false,
     "start_time": "2020-08-27T23:24:41.435575",
     "status": "completed"
    },
    "tags": []
   },
   "outputs": [],
   "source": [
    "KRR = KernelRidge(alpha=0.6, kernel='polynomial', degree=2, coef0=2.5)"
   ]
  },
  {
   "cell_type": "code",
   "execution_count": 63,
   "metadata": {
    "execution": {
     "iopub.execute_input": "2020-08-27T23:24:41.559113Z",
     "iopub.status.busy": "2020-08-27T23:24:41.557956Z",
     "iopub.status.idle": "2020-08-27T23:24:41.844115Z",
     "shell.execute_reply": "2020-08-27T23:24:41.843404Z"
    },
    "papermill": {
     "duration": 0.327442,
     "end_time": "2020-08-27T23:24:41.844261",
     "exception": false,
     "start_time": "2020-08-27T23:24:41.516819",
     "status": "completed"
    },
    "tags": []
   },
   "outputs": [
    {
     "name": "stdout",
     "output_type": "stream",
     "text": [
      "Kernel Ridge score: 0.1152 (0.0077)\n",
      "\n"
     ]
    }
   ],
   "source": [
    "# calculating base model score\n",
    "score = rmsle_cv(KRR)\n",
    "print(\"Kernel Ridge score: {:.4f} ({:.4f})\\n\".format(score.mean(), score.std()))"
   ]
  },
  {
   "cell_type": "markdown",
   "execution_count": null,
   "metadata": {
    "papermill": {
     "duration": 0.036202,
     "end_time": "2020-08-27T23:24:41.916661",
     "exception": false,
     "start_time": "2020-08-27T23:24:41.880459",
     "status": "completed"
    },
    "tags": []
   },
   "source": [
    "**LightGBM**"
   ]
  },
  {
   "cell_type": "code",
   "execution_count": 64,
   "metadata": {
    "execution": {
     "iopub.execute_input": "2020-08-27T23:24:42.038697Z",
     "iopub.status.busy": "2020-08-27T23:24:42.037818Z",
     "iopub.status.idle": "2020-08-27T23:24:42.040490Z",
     "shell.execute_reply": "2020-08-27T23:24:42.041029Z"
    },
    "papermill": {
     "duration": 0.047157,
     "end_time": "2020-08-27T23:24:42.041244",
     "exception": false,
     "start_time": "2020-08-27T23:24:41.994087",
     "status": "completed"
    },
    "tags": []
   },
   "outputs": [],
   "source": [
    "model_lgb = lgb.LGBMRegressor(objective='regression',num_leaves=5,\n",
    "                              learning_rate=0.05, n_estimators=720,\n",
    "                              max_bin = 55, bagging_fraction = 0.8,\n",
    "                              bagging_freq = 5, feature_fraction = 0.2319,\n",
    "                              feature_fraction_seed=9, bagging_seed=9,\n",
    "                              min_data_in_leaf =6, min_sum_hessian_in_leaf = 11)\n"
   ]
  },
  {
   "cell_type": "code",
   "execution_count": 65,
   "metadata": {
    "execution": {
     "iopub.execute_input": "2020-08-27T23:24:42.119045Z",
     "iopub.status.busy": "2020-08-27T23:24:42.118319Z",
     "iopub.status.idle": "2020-08-27T23:24:43.209732Z",
     "shell.execute_reply": "2020-08-27T23:24:43.210425Z"
    },
    "papermill": {
     "duration": 1.133284,
     "end_time": "2020-08-27T23:24:43.210608",
     "exception": false,
     "start_time": "2020-08-27T23:24:42.077324",
     "status": "completed"
    },
    "tags": []
   },
   "outputs": [
    {
     "name": "stdout",
     "output_type": "stream",
     "text": [
      "LGBM score: 0.1157 (0.0062)\n",
      "\n"
     ]
    }
   ],
   "source": [
    "# calculating base model score\n",
    "score = rmsle_cv(model_lgb)\n",
    "print(\"LGBM score: {:.4f} ({:.4f})\\n\" .format(score.mean(), score.std()))"
   ]
  },
  {
   "cell_type": "markdown",
   "execution_count": null,
   "metadata": {
    "papermill": {
     "duration": 0.043534,
     "end_time": "2020-08-27T23:24:43.297756",
     "exception": false,
     "start_time": "2020-08-27T23:24:43.254222",
     "status": "completed"
    },
    "tags": []
   },
   "source": [
    "# Stacking models"
   ]
  },
  {
   "cell_type": "markdown",
   "execution_count": null,
   "metadata": {
    "papermill": {
     "duration": 0.043432,
     "end_time": "2020-08-27T23:24:43.386061",
     "exception": false,
     "start_time": "2020-08-27T23:24:43.342629",
     "status": "completed"
    },
    "tags": []
   },
   "source": [
    "**Averaged base models class**"
   ]
  },
  {
   "cell_type": "code",
   "execution_count": 66,
   "metadata": {
    "execution": {
     "iopub.execute_input": "2020-08-27T23:24:43.472330Z",
     "iopub.status.busy": "2020-08-27T23:24:43.471254Z",
     "iopub.status.idle": "2020-08-27T23:24:43.474660Z",
     "shell.execute_reply": "2020-08-27T23:24:43.474055Z"
    },
    "papermill": {
     "duration": 0.049454,
     "end_time": "2020-08-27T23:24:43.474793",
     "exception": false,
     "start_time": "2020-08-27T23:24:43.425339",
     "status": "completed"
    },
    "tags": []
   },
   "outputs": [],
   "source": [
    "class AveragingModels(BaseEstimator, RegressorMixin, TransformerMixin):\n",
    "    def __init__(self, models):\n",
    "        self.models = models\n",
    "        \n",
    "    # we define clones of the original models to fit the data in\n",
    "    def fit(self, X, y):\n",
    "        self.models_ = [clone(x) for x in self.models]\n",
    "        \n",
    "        # Train cloned base models\n",
    "        for model in self.models_:\n",
    "            model.fit(X, y)\n",
    "\n",
    "        return self\n",
    "    \n",
    "    #Now we do the predictions for cloned models and average them\n",
    "    def predict(self, X):\n",
    "        predictions = np.column_stack([\n",
    "            model.predict(X) for model in self.models_\n",
    "        ])\n",
    "        return np.mean(predictions, axis=1)   "
   ]
  },
  {
   "cell_type": "markdown",
   "execution_count": null,
   "metadata": {
    "papermill": {
     "duration": 0.035703,
     "end_time": "2020-08-27T23:24:43.546763",
     "exception": false,
     "start_time": "2020-08-27T23:24:43.511060",
     "status": "completed"
    },
    "tags": []
   },
   "source": [
    "**Averaged base models score**"
   ]
  },
  {
   "cell_type": "code",
   "execution_count": 67,
   "metadata": {
    "execution": {
     "iopub.execute_input": "2020-08-27T23:24:43.625336Z",
     "iopub.status.busy": "2020-08-27T23:24:43.624530Z",
     "iopub.status.idle": "2020-08-27T23:24:45.101368Z",
     "shell.execute_reply": "2020-08-27T23:24:45.100692Z"
    },
    "papermill": {
     "duration": 1.51886,
     "end_time": "2020-08-27T23:24:45.101497",
     "exception": false,
     "start_time": "2020-08-27T23:24:43.582637",
     "status": "completed"
    },
    "tags": []
   },
   "outputs": [
    {
     "name": "stdout",
     "output_type": "stream",
     "text": [
      " Averaged base models score: 0.1107 (0.0077)\n",
      "\n"
     ]
    }
   ],
   "source": [
    "averaged_models = AveragingModels(models = (ENet, KRR, lasso))\n",
    "\n",
    "score = rmsle_cv(averaged_models)\n",
    "print(\" Averaged base models score: {:.4f} ({:.4f})\\n\".format(score.mean(), score.std()))"
   ]
  },
  {
   "cell_type": "markdown",
   "execution_count": null,
   "metadata": {
    "papermill": {
     "duration": 0.035784,
     "end_time": "2020-08-27T23:24:45.173346",
     "exception": false,
     "start_time": "2020-08-27T23:24:45.137562",
     "status": "completed"
    },
    "tags": []
   },
   "source": [
    "**Stacking averaged Models Class**"
   ]
  },
  {
   "cell_type": "code",
   "execution_count": 68,
   "metadata": {
    "execution": {
     "iopub.execute_input": "2020-08-27T23:24:45.263763Z",
     "iopub.status.busy": "2020-08-27T23:24:45.262629Z",
     "iopub.status.idle": "2020-08-27T23:24:45.266087Z",
     "shell.execute_reply": "2020-08-27T23:24:45.265483Z"
    },
    "papermill": {
     "duration": 0.056881,
     "end_time": "2020-08-27T23:24:45.266271",
     "exception": false,
     "start_time": "2020-08-27T23:24:45.209390",
     "status": "completed"
    },
    "tags": []
   },
   "outputs": [],
   "source": [
    "class StackingAveragedModels(BaseEstimator, RegressorMixin, TransformerMixin):\n",
    "    def __init__(self, base_models, meta_model, n_folds=5):\n",
    "        self.base_models = base_models\n",
    "        self.meta_model = meta_model\n",
    "        self.n_folds = n_folds\n",
    "   \n",
    "    # We again fit the data on clones of the original models\n",
    "    def fit(self, X, y):\n",
    "        self.base_models_ = [list() for x in self.base_models]\n",
    "        self.meta_model_ = clone(self.meta_model)\n",
    "        kfold = KFold(n_splits=self.n_folds, shuffle=True, random_state=156)\n",
    "        \n",
    "        # Train cloned base models then create out-of-fold predictions\n",
    "        # that are needed to train the cloned meta-model\n",
    "        out_of_fold_predictions = np.zeros((X.shape[0], len(self.base_models)))\n",
    "        for i, model in enumerate(self.base_models):\n",
    "            for train_index, holdout_index in kfold.split(X, y):\n",
    "                instance = clone(model)\n",
    "                self.base_models_[i].append(instance)\n",
    "                instance.fit(X[train_index], y[train_index])\n",
    "                y_pred = instance.predict(X[holdout_index])\n",
    "                out_of_fold_predictions[holdout_index, i] = y_pred\n",
    "                \n",
    "        # Now train the cloned  meta-model using the out-of-fold predictions as new feature\n",
    "        self.meta_model_.fit(out_of_fold_predictions, y)\n",
    "        return self\n",
    "   \n",
    "    #Do the predictions of all base models on the test data and use the averaged predictions as \n",
    "    #meta-features for the final prediction which is done by the meta-model\n",
    "    def predict(self, X):\n",
    "        meta_features = np.column_stack([\n",
    "            np.column_stack([model.predict(X) for model in base_models]).mean(axis=1)\n",
    "            for base_models in self.base_models_ ])\n",
    "        return self.meta_model_.predict(meta_features)\n"
   ]
  },
  {
   "cell_type": "markdown",
   "execution_count": null,
   "metadata": {
    "papermill": {
     "duration": 0.035973,
     "end_time": "2020-08-27T23:24:45.338953",
     "exception": false,
     "start_time": "2020-08-27T23:24:45.302980",
     "status": "completed"
    },
    "tags": []
   },
   "source": [
    "**Stacking Averaged models Score**"
   ]
  },
  {
   "cell_type": "code",
   "execution_count": 69,
   "metadata": {
    "execution": {
     "iopub.execute_input": "2020-08-27T23:24:45.417979Z",
     "iopub.status.busy": "2020-08-27T23:24:45.416893Z",
     "iopub.status.idle": "2020-08-27T23:24:48.906585Z",
     "shell.execute_reply": "2020-08-27T23:24:48.905280Z"
    },
    "papermill": {
     "duration": 3.531997,
     "end_time": "2020-08-27T23:24:48.906746",
     "exception": false,
     "start_time": "2020-08-27T23:24:45.374749",
     "status": "completed"
    },
    "tags": []
   },
   "outputs": [
    {
     "name": "stdout",
     "output_type": "stream",
     "text": [
      "Stacking Averaged models score: 0.1109 (0.0076)\n"
     ]
    }
   ],
   "source": [
    "stacked_averaged_models = StackingAveragedModels(base_models = (ENet,KRR),\n",
    "                                                 meta_model = lasso)\n",
    "\n",
    "score = rmsle_cv(stacked_averaged_models)\n",
    "print(\"Stacking Averaged models score: {:.4f} ({:.4f})\".format(score.mean(), score.std()))"
   ]
  },
  {
   "cell_type": "code",
   "execution_count": 70,
   "metadata": {
    "execution": {
     "iopub.execute_input": "2020-08-27T23:24:48.984877Z",
     "iopub.status.busy": "2020-08-27T23:24:48.983820Z",
     "iopub.status.idle": "2020-08-27T23:24:48.986718Z",
     "shell.execute_reply": "2020-08-27T23:24:48.987343Z"
    },
    "papermill": {
     "duration": 0.044557,
     "end_time": "2020-08-27T23:24:48.987501",
     "exception": false,
     "start_time": "2020-08-27T23:24:48.942944",
     "status": "completed"
    },
    "tags": []
   },
   "outputs": [],
   "source": [
    "def rmsle(Y, y_pred):\n",
    "    return np.sqrt(mean_squared_error(Y, y_pred))"
   ]
  },
  {
   "cell_type": "markdown",
   "execution_count": null,
   "metadata": {
    "papermill": {
     "duration": 0.03584,
     "end_time": "2020-08-27T23:24:49.059369",
     "exception": false,
     "start_time": "2020-08-27T23:24:49.023529",
     "status": "completed"
    },
    "tags": []
   },
   "source": [
    "**Final Training and Prediction**"
   ]
  },
  {
   "cell_type": "code",
   "execution_count": 71,
   "metadata": {
    "execution": {
     "iopub.execute_input": "2020-08-27T23:24:49.138497Z",
     "iopub.status.busy": "2020-08-27T23:24:49.137718Z",
     "iopub.status.idle": "2020-08-27T23:24:50.286217Z",
     "shell.execute_reply": "2020-08-27T23:24:50.285579Z"
    },
    "papermill": {
     "duration": 1.190266,
     "end_time": "2020-08-27T23:24:50.286339",
     "exception": false,
     "start_time": "2020-08-27T23:24:49.096073",
     "status": "completed"
    },
    "tags": []
   },
   "outputs": [
    {
     "name": "stdout",
     "output_type": "stream",
     "text": [
      "0.09483367340544521\n"
     ]
    }
   ],
   "source": [
    "stacked_averaged_models.fit(x.values, y_train)\n",
    "stacked_train_pred = stacked_averaged_models.predict(x.values)\n",
    "stacked_pred = np.expm1(stacked_averaged_models.predict(y.values))\n",
    "print(rmsle(y_train, stacked_train_pred))"
   ]
  },
  {
   "cell_type": "code",
   "execution_count": 72,
   "metadata": {
    "execution": {
     "iopub.execute_input": "2020-08-27T23:24:50.372948Z",
     "iopub.status.busy": "2020-08-27T23:24:50.367011Z",
     "iopub.status.idle": "2020-08-27T23:24:50.702055Z",
     "shell.execute_reply": "2020-08-27T23:24:50.703010Z"
    },
    "papermill": {
     "duration": 0.379717,
     "end_time": "2020-08-27T23:24:50.703218",
     "exception": false,
     "start_time": "2020-08-27T23:24:50.323501",
     "status": "completed"
    },
    "tags": []
   },
   "outputs": [
    {
     "name": "stdout",
     "output_type": "stream",
     "text": [
      "0.07261907708573882\n"
     ]
    }
   ],
   "source": [
    "model_lgb.fit(x, y_train)\n",
    "lgb_train_pred = model_lgb.predict(x)\n",
    "lgb_pred = np.expm1(model_lgb.predict(y.values))\n",
    "print(rmsle(y_train, lgb_train_pred))"
   ]
  },
  {
   "cell_type": "code",
   "execution_count": 73,
   "metadata": {
    "execution": {
     "iopub.execute_input": "2020-08-27T23:24:50.799915Z",
     "iopub.status.busy": "2020-08-27T23:24:50.798820Z",
     "iopub.status.idle": "2020-08-27T23:24:50.802788Z",
     "shell.execute_reply": "2020-08-27T23:24:50.803467Z"
    },
    "papermill": {
     "duration": 0.056284,
     "end_time": "2020-08-27T23:24:50.803641",
     "exception": false,
     "start_time": "2020-08-27T23:24:50.747357",
     "status": "completed"
    },
    "tags": []
   },
   "outputs": [
    {
     "name": "stdout",
     "output_type": "stream",
     "text": [
      "RMSLE score on train data:\n",
      "1.8069622854033116\n"
     ]
    }
   ],
   "source": [
    "# RMSE on the entire Train data when averaging\n",
    "\n",
    "print('RMSLE score on train data:')\n",
    "print(rmsle(y_train,stacked_train_pred*0.70 +\n",
    "               + lgb_train_pred*0.15 ))"
   ]
  },
  {
   "cell_type": "code",
   "execution_count": 74,
   "metadata": {
    "execution": {
     "iopub.execute_input": "2020-08-27T23:24:50.899236Z",
     "iopub.status.busy": "2020-08-27T23:24:50.898347Z",
     "iopub.status.idle": "2020-08-27T23:24:50.902722Z",
     "shell.execute_reply": "2020-08-27T23:24:50.902132Z"
    },
    "papermill": {
     "duration": 0.055275,
     "end_time": "2020-08-27T23:24:50.902842",
     "exception": false,
     "start_time": "2020-08-27T23:24:50.847567",
     "status": "completed"
    },
    "tags": []
   },
   "outputs": [
    {
     "data": {
      "text/plain": [
       "array([101889.65128723, 137265.52181177, 156431.07213992, ...,\n",
       "       146665.85070046,  97573.0754317 , 190839.76602551])"
      ]
     },
     "execution_count": 74,
     "metadata": {},
     "output_type": "execute_result"
    }
   ],
   "source": [
    "ensemble = stacked_pred*0.70+ lgb_pred*0.15\n",
    "ensemble"
   ]
  },
  {
   "cell_type": "markdown",
   "execution_count": null,
   "metadata": {
    "papermill": {
     "duration": 0.035832,
     "end_time": "2020-08-27T23:24:50.974665",
     "exception": false,
     "start_time": "2020-08-27T23:24:50.938833",
     "status": "completed"
    },
    "tags": []
   },
   "source": [
    "**Submission**"
   ]
  },
  {
   "cell_type": "code",
   "execution_count": 75,
   "metadata": {
    "execution": {
     "iopub.execute_input": "2020-08-27T23:24:51.056488Z",
     "iopub.status.busy": "2020-08-27T23:24:51.055720Z",
     "iopub.status.idle": "2020-08-27T23:24:51.297068Z",
     "shell.execute_reply": "2020-08-27T23:24:51.296333Z"
    },
    "papermill": {
     "duration": 0.286176,
     "end_time": "2020-08-27T23:24:51.297221",
     "exception": false,
     "start_time": "2020-08-27T23:24:51.011045",
     "status": "completed"
    },
    "tags": []
   },
   "outputs": [
    {
     "name": "stdout",
     "output_type": "stream",
     "text": [
      "        Id      SalePrice\n",
      "0     1461  101889.651287\n",
      "1     1462  137265.521812\n",
      "2     1463  156431.072140\n",
      "3     1464  167369.888062\n",
      "4     1465  166003.483584\n",
      "...    ...            ...\n",
      "1454  2915   74386.173564\n",
      "1455  2916   70432.920775\n",
      "1456  2917  146665.850700\n",
      "1457  2918   97573.075432\n",
      "1458  2919  190839.766026\n",
      "\n",
      "[1459 rows x 2 columns]\n"
     ]
    }
   ],
   "source": [
    "sub = pd.DataFrame()\n",
    "sub['Id'] = test_ID\n",
    "sub['SalePrice'] = ensemble\n",
    "sub.to_csv('submission.csv',index=False)\n",
    "print(sub)"
   ]
  }
 ],
 "metadata": {
  "kernelspec": {
   "display_name": "Python 3",
   "language": "python",
   "name": "python3"
  },
  "language_info": {
   "codemirror_mode": {
    "name": "ipython",
    "version": 3
   },
   "file_extension": ".py",
   "mimetype": "text/x-python",
   "name": "python",
   "nbconvert_exporter": "python",
   "pygments_lexer": "ipython3",
   "version": "3.7.6"
  },
  "papermill": {
   "duration": 29.945282,
   "end_time": "2020-08-27T23:24:51.442828",
   "environment_variables": {},
   "exception": null,
   "input_path": "__notebook__.ipynb",
   "output_path": "__notebook__.ipynb",
   "parameters": {},
   "start_time": "2020-08-27T23:24:21.497546",
   "version": "2.1.0"
  }
 },
 "nbformat": 4,
 "nbformat_minor": 4
}
